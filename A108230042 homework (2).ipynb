{
 "cells": [
  {
   "cell_type": "code",
   "execution_count": 1,
   "metadata": {},
   "outputs": [
    {
     "name": "stdout",
     "output_type": "stream",
     "text": [
      "Learning Python now!\n"
     ]
    }
   ],
   "source": [
    "print('Learning Python now!')"
   ]
  },
  {
   "cell_type": "code",
   "execution_count": 2,
   "metadata": {},
   "outputs": [
    {
     "name": "stdout",
     "output_type": "stream",
     "text": [
      "Python is fun\n"
     ]
    }
   ],
   "source": [
    "print('Python is fun')"
   ]
  },
  {
   "cell_type": "code",
   "execution_count": 3,
   "metadata": {},
   "outputs": [
    {
     "name": "stdout",
     "output_type": "stream",
     "text": [
      "Learning Python now!\n",
      "Python is fun\n"
     ]
    }
   ],
   "source": [
    "#p1-13\n",
    "#display two messages\n",
    "print('Learning Python now!')\n",
    "print('Python is fun')"
   ]
  },
  {
   "cell_type": "code",
   "execution_count": 4,
   "metadata": {},
   "outputs": [
    {
     "name": "stdout",
     "output_type": "stream",
     "text": [
      "Fahrenheit 80 is Celsius degree\n",
      "12.444444444444443\n"
     ]
    }
   ],
   "source": [
    "#p1-15\n",
    "#Convert Fahrenheit to Celsius\n",
    "print('Fahrenheit 80 is Celsius degree')\n",
    "print(5/9*80-32)"
   ]
  },
  {
   "cell_type": "code",
   "execution_count": 5,
   "metadata": {},
   "outputs": [
    {
     "name": "stdout",
     "output_type": "stream",
     "text": [
      "mile 96 is Kilometer\n",
      "153.60000000000002\n"
     ]
    }
   ],
   "source": [
    "#Convert miles to Kilometers\n",
    "print('mile 96 is Kilometer')\n",
    "print(96*1.6)"
   ]
  },
  {
   "cell_type": "code",
   "execution_count": 6,
   "metadata": {},
   "outputs": [
    {
     "name": "stdout",
     "output_type": "stream",
     "text": [
      "Fahrenheit 100 is Celsius degree\n",
      "23.555555555555557\n"
     ]
    }
   ],
   "source": [
    "#Convert Fahrenheit to Celsius\n",
    "print('Fahrenheit 100 is Celsius degree')\n",
    "print(5/9*100-32)"
   ]
  },
  {
   "cell_type": "code",
   "execution_count": 7,
   "metadata": {},
   "outputs": [
    {
     "name": "stdout",
     "output_type": "stream",
     "text": [
      "feet 90 is meter\n",
      "27.45\n"
     ]
    }
   ],
   "source": [
    "#Convert feet to meter\n",
    "print('feet 90 is meter')\n",
    "print(90*30.5/100)"
   ]
  },
  {
   "cell_type": "code",
   "execution_count": 8,
   "metadata": {},
   "outputs": [
    {
     "name": "stdout",
     "output_type": "stream",
     "text": [
      "12345\n"
     ]
    }
   ],
   "source": [
    "print(12345)"
   ]
  },
  {
   "cell_type": "code",
   "execution_count": 9,
   "metadata": {},
   "outputs": [
    {
     "name": "stdout",
     "output_type": "stream",
     "text": [
      "123.456\n"
     ]
    }
   ],
   "source": [
    "print(123.456)"
   ]
  },
  {
   "cell_type": "code",
   "execution_count": 10,
   "metadata": {},
   "outputs": [
    {
     "name": "stdout",
     "output_type": "stream",
     "text": [
      "Learning Python now!\n"
     ]
    }
   ],
   "source": [
    "print(\"Learning Python now!\")"
   ]
  },
  {
   "cell_type": "code",
   "execution_count": 11,
   "metadata": {},
   "outputs": [
    {
     "name": "stdout",
     "output_type": "stream",
     "text": [
      "Learning Python now!\n"
     ]
    }
   ],
   "source": [
    "print('Learning Python now!')"
   ]
  },
  {
   "cell_type": "code",
   "execution_count": 12,
   "metadata": {},
   "outputs": [
    {
     "name": "stdout",
     "output_type": "stream",
     "text": [
      "Python is fun\n",
      "Les's go\n"
     ]
    }
   ],
   "source": [
    "print('Python is fun')\n",
    "print(\"Les's go\")"
   ]
  },
  {
   "cell_type": "code",
   "execution_count": 13,
   "metadata": {},
   "outputs": [
    {
     "name": "stdout",
     "output_type": "stream",
     "text": [
      "\\n is skip a line\n"
     ]
    }
   ],
   "source": [
    "print('\\\\n is skip a line')"
   ]
  },
  {
   "cell_type": "code",
   "execution_count": 14,
   "metadata": {},
   "outputs": [
    {
     "name": "stdout",
     "output_type": "stream",
     "text": [
      "Learning Python now!\n",
      "Python is fun\n"
     ]
    }
   ],
   "source": [
    "print('Learning Python now!\\nPython is fun')"
   ]
  },
  {
   "cell_type": "code",
   "execution_count": 15,
   "metadata": {},
   "outputs": [
    {
     "name": "stdout",
     "output_type": "stream",
     "text": [
      "|\tHello,world|\n"
     ]
    }
   ],
   "source": [
    "print('|\\tHello,world|')"
   ]
  },
  {
   "cell_type": "code",
   "execution_count": 16,
   "metadata": {},
   "outputs": [
    {
     "name": "stdout",
     "output_type": "stream",
     "text": [
      "|Hello,\t world|\n"
     ]
    }
   ],
   "source": [
    "print('|Hello,\\t world|')"
   ]
  },
  {
   "cell_type": "code",
   "execution_count": 17,
   "metadata": {},
   "outputs": [
    {
     "name": "stdout",
     "output_type": "stream",
     "text": [
      "\\n is skip a line\n"
     ]
    }
   ],
   "source": [
    "print('\\\\n is skip a line')"
   ]
  },
  {
   "cell_type": "code",
   "execution_count": 18,
   "metadata": {},
   "outputs": [
    {
     "name": "stdout",
     "output_type": "stream",
     "text": [
      "\"Hello,everyone\"\n"
     ]
    }
   ],
   "source": [
    "print('\\\"Hello,everyone\\\"')"
   ]
  },
  {
   "cell_type": "code",
   "execution_count": 19,
   "metadata": {},
   "outputs": [
    {
     "name": "stdout",
     "output_type": "stream",
     "text": [
      "Radius = 12\n"
     ]
    }
   ],
   "source": [
    "print('Radius =',12)"
   ]
  },
  {
   "cell_type": "code",
   "execution_count": 20,
   "metadata": {},
   "outputs": [
    {
     "name": "stdout",
     "output_type": "stream",
     "text": [
      "Hello,\n",
      "world\n"
     ]
    }
   ],
   "source": [
    "print('Hello,')\n",
    "print('world')"
   ]
  },
  {
   "cell_type": "code",
   "execution_count": 21,
   "metadata": {},
   "outputs": [
    {
     "name": "stdout",
     "output_type": "stream",
     "text": [
      "Hello,world\n"
     ]
    }
   ],
   "source": [
    "print('Hello,',end = '')\n",
    "print('world')"
   ]
  },
  {
   "cell_type": "code",
   "execution_count": 22,
   "metadata": {},
   "outputs": [
    {
     "name": "stdout",
     "output_type": "stream",
     "text": [
      "Hello, world\n"
     ]
    }
   ],
   "source": [
    "print('Hello,','world')"
   ]
  },
  {
   "cell_type": "code",
   "execution_count": 23,
   "metadata": {},
   "outputs": [
    {
     "name": "stdout",
     "output_type": "stream",
     "text": [
      "Hello,***world\n"
     ]
    }
   ],
   "source": [
    "print('Hello,', end = '***')\n",
    "print('world')"
   ]
  },
  {
   "cell_type": "code",
   "execution_count": 24,
   "metadata": {},
   "outputs": [
    {
     "name": "stdout",
     "output_type": "stream",
     "text": [
      "***Hello,world***\n",
      "Hello,Python\n",
      "excellent!!!\n"
     ]
    }
   ],
   "source": [
    "print('***Hello,world',end='***')\n",
    "print('')\n",
    "print('Hello,Python')\n",
    "print('excellent!!!')"
   ]
  },
  {
   "cell_type": "code",
   "execution_count": 25,
   "metadata": {},
   "outputs": [
    {
     "name": "stdout",
     "output_type": "stream",
     "text": [
      "     100\n"
     ]
    }
   ],
   "source": [
    "print(format(100,'8d'))"
   ]
  },
  {
   "cell_type": "code",
   "execution_count": 26,
   "metadata": {},
   "outputs": [
    {
     "name": "stdout",
     "output_type": "stream",
     "text": [
      "100000\n"
     ]
    }
   ],
   "source": [
    "print(format(100000,'3d'))"
   ]
  },
  {
   "cell_type": "code",
   "execution_count": 27,
   "metadata": {},
   "outputs": [
    {
     "name": "stdout",
     "output_type": "stream",
     "text": [
      "      64\n",
      "     144\n",
      " 1100100\n"
     ]
    }
   ],
   "source": [
    "print(format(100,'8x'))\n",
    "print(format(100,'8o'))\n",
    "print(format(100,'8b'))"
   ]
  },
  {
   "cell_type": "code",
   "execution_count": 28,
   "metadata": {},
   "outputs": [
    {
     "name": "stdout",
     "output_type": "stream",
     "text": [
      "23.89%\n"
     ]
    }
   ],
   "source": [
    "print(format(0.2389,'6.2%'))"
   ]
  },
  {
   "cell_type": "code",
   "execution_count": 29,
   "metadata": {},
   "outputs": [
    {
     "name": "stdout",
     "output_type": "stream",
     "text": [
      "  123.46\n"
     ]
    }
   ],
   "source": [
    "print(format(123.456,'8.2f'))"
   ]
  },
  {
   "cell_type": "code",
   "execution_count": 30,
   "metadata": {},
   "outputs": [
    {
     "name": "stdout",
     "output_type": "stream",
     "text": [
      "Python is fun  \n"
     ]
    }
   ],
   "source": [
    "print(format('Python is fun','15s'))"
   ]
  },
  {
   "cell_type": "code",
   "execution_count": 31,
   "metadata": {},
   "outputs": [
    {
     "name": "stdout",
     "output_type": "stream",
     "text": [
      "  Python is fun\n"
     ]
    }
   ],
   "source": [
    "print(format('Python is fun','>15s'))"
   ]
  },
  {
   "cell_type": "code",
   "execution_count": 32,
   "metadata": {},
   "outputs": [
    {
     "name": "stdout",
     "output_type": "stream",
     "text": [
      "     12345\n"
     ]
    }
   ],
   "source": [
    "print(format(12345,'10d'))"
   ]
  },
  {
   "cell_type": "code",
   "execution_count": 33,
   "metadata": {},
   "outputs": [
    {
     "name": "stdout",
     "output_type": "stream",
     "text": [
      "12345     \n"
     ]
    }
   ],
   "source": [
    "print(format(12345,'<10d'))"
   ]
  },
  {
   "cell_type": "code",
   "execution_count": 34,
   "metadata": {},
   "outputs": [
    {
     "name": "stdout",
     "output_type": "stream",
     "text": [
      "   12345   \n"
     ]
    }
   ],
   "source": [
    "print(format(12345,'^11d'))"
   ]
  },
  {
   "cell_type": "code",
   "execution_count": 35,
   "metadata": {},
   "outputs": [
    {
     "name": "stdout",
     "output_type": "stream",
     "text": [
      "12345 12 1234567\n",
      "12 123 1234567\n",
      "123 1234567 1345\n"
     ]
    }
   ],
   "source": [
    "print(12345,12,1234567)\n",
    "print(12,123,1234567)\n",
    "print(123,1234567,1345)"
   ]
  },
  {
   "cell_type": "code",
   "execution_count": 36,
   "metadata": {},
   "outputs": [
    {
     "name": "stdout",
     "output_type": "stream",
     "text": [
      "     12345        12   1234567\n",
      "        12       123   1234567\n",
      "       123   1234567       123\n"
     ]
    }
   ],
   "source": [
    "print(format(12345,'10d'),end='')\n",
    "print(format(12,'10d'),end='')\n",
    "print(format(1234567,'10d'))\n",
    "print(format(12,'10d'),end='')\n",
    "print(format(123,'10d'),end='')\n",
    "print(format(1234567,'10d'))\n",
    "print(format(123,'10d'),end='')\n",
    "print(format(1234567,'10d'),end='')\n",
    "print(format(123,'10d'))"
   ]
  },
  {
   "cell_type": "code",
   "execution_count": 37,
   "metadata": {},
   "outputs": [
    {
     "name": "stdout",
     "output_type": "stream",
     "text": [
      "     12345         12    1234567\n",
      "        12        123    1234567\n",
      "       123    1234567        123\n"
     ]
    }
   ],
   "source": [
    "print(format(12345,'10d'),format(12,'10d'),format(1234567,'10d'))\n",
    "print(format(12,'10d'),format(123,'10d'),format(1234567,'10d'))\n",
    "print(format(123,'10d'),format(1234567,'10d'),format(123,'10d'))"
   ]
  },
  {
   "cell_type": "code",
   "execution_count": 38,
   "metadata": {},
   "outputs": [
    {
     "name": "stdout",
     "output_type": "stream",
     "text": [
      "     12345\n"
     ]
    }
   ],
   "source": [
    "print('%10d'%(12345))"
   ]
  },
  {
   "cell_type": "code",
   "execution_count": 39,
   "metadata": {},
   "outputs": [
    {
     "name": "stdout",
     "output_type": "stream",
     "text": [
      "|     12345|\n"
     ]
    }
   ],
   "source": [
    "print('|%10d|'%(12345))"
   ]
  },
  {
   "cell_type": "code",
   "execution_count": 40,
   "metadata": {},
   "outputs": [
    {
     "name": "stdout",
     "output_type": "stream",
     "text": [
      "|12345|\n"
     ]
    }
   ],
   "source": [
    "print('|%3d|'%(12345))"
   ]
  },
  {
   "cell_type": "code",
   "execution_count": 41,
   "metadata": {},
   "outputs": [
    {
     "name": "stdout",
     "output_type": "stream",
     "text": [
      "|12345     |\n"
     ]
    }
   ],
   "source": [
    "print('|%-10d|'%(12345))"
   ]
  },
  {
   "cell_type": "code",
   "execution_count": 42,
   "metadata": {},
   "outputs": [
    {
     "name": "stdout",
     "output_type": "stream",
     "text": [
      "|  123.46|\n",
      "|    1.23|\n",
      "| 1234.56|\n",
      "|   12.35|\n",
      "|12345.60|\n"
     ]
    }
   ],
   "source": [
    "print('|%8.2f|'%(123.456))\n",
    "print('|%8.2f|'%(1.23456))\n",
    "print('|%8.2f|'%(1234.56))\n",
    "print('|%8.2f|'%(12.3456))\n",
    "print('|%8.2f|'%(12345.6))"
   ]
  },
  {
   "cell_type": "code",
   "execution_count": 43,
   "metadata": {},
   "outputs": [
    {
     "name": "stdout",
     "output_type": "stream",
     "text": [
      "|123.46|\n",
      "|1.23|\n",
      "|1234.56|\n",
      "|12.35|\n",
      "|12345.60|\n"
     ]
    }
   ],
   "source": [
    "print('|%.2f|'%(123.456))\n",
    "print('|%.2f|'%(1.23456))\n",
    "print('|%.2f|'%(1234.56))\n",
    "print('|%.2f|'%(12.3456))\n",
    "print('|%.2f|'%(12345.6))"
   ]
  },
  {
   "cell_type": "code",
   "execution_count": 44,
   "metadata": {},
   "outputs": [
    {
     "name": "stdout",
     "output_type": "stream",
     "text": [
      "|          Learning Python now!|\n",
      "|Learning Python now!          |\n",
      "|Learning Python now!|\n"
     ]
    }
   ],
   "source": [
    "print('|%30s|'%('Learning Python now!'))\n",
    "print('|%-30s|'%('Learning Python now!'))\n",
    "print('|%15s|'%('Learning Python now!'))"
   ]
  },
  {
   "cell_type": "code",
   "execution_count": 45,
   "metadata": {},
   "outputs": [
    {
     "name": "stdout",
     "output_type": "stream",
     "text": [
      "width = 5,height = 7,area = 24\n"
     ]
    }
   ],
   "source": [
    "print('width =%2d,height =%2d,area =%3d'%(5,7,24))"
   ]
  },
  {
   "cell_type": "code",
   "execution_count": 46,
   "metadata": {},
   "outputs": [
    {
     "name": "stdout",
     "output_type": "stream",
     "text": [
      "     12345        12   1234567\n",
      "        12       123   1234567\n",
      "       123   1234567       123\n"
     ]
    }
   ],
   "source": [
    "print('%10d%10d%10d'%(12345,12,1234567))\n",
    "print('%10d%10d%10d'%(12,123,1234567))\n",
    "print('%10d%10d%10d'%(123,1234567,123))"
   ]
  },
  {
   "cell_type": "code",
   "execution_count": 47,
   "metadata": {},
   "outputs": [
    {
     "name": "stdout",
     "output_type": "stream",
     "text": [
      "100% orange juice\n"
     ]
    }
   ],
   "source": [
    "print('%d%% orange juice'%(100))"
   ]
  },
  {
   "cell_type": "code",
   "execution_count": 48,
   "metadata": {},
   "outputs": [
    {
     "name": "stdout",
     "output_type": "stream",
     "text": [
      "123\n",
      "123,12345\n",
      "  123,  12345\n",
      "x=  123,y=  12345\n",
      "x=  123,y=  12345\n"
     ]
    }
   ],
   "source": [
    "print('{0}'.format(123))\n",
    "print('{0},{1}'.format(123,12345))\n",
    "print('{0:5d},{1:7}'.format(123,12345))\n",
    "print('x={0:5d},y={1:7d}'.format(123,12345))\n",
    "print('x={p:5d},y={q:7d}'.format(p=123,q=12345))"
   ]
  },
  {
   "cell_type": "code",
   "execution_count": 49,
   "metadata": {},
   "outputs": [
    {
     "name": "stdout",
     "output_type": "stream",
     "text": [
      "|     12345        12   1234567|\n",
      "|        12   1234567       123|\n",
      "|   1234567       123     12345|\n"
     ]
    }
   ],
   "source": [
    "print('|%10d %9d %9d|'%(12345,12,1234567))\n",
    "print('|%10d %9d %9d|'%(12,1234567,123))\n",
    "print('|%10d %9d %9d|'%(1234567,123,12345))"
   ]
  },
  {
   "cell_type": "code",
   "execution_count": 50,
   "metadata": {},
   "outputs": [
    {
     "name": "stdout",
     "output_type": "stream",
     "text": [
      "Department  \n",
      "of          \n",
      "Computer    \n",
      "Science     \n",
      "\n"
     ]
    }
   ],
   "source": [
    "print(format('Department','12s'))\n",
    "print(format('of','12s'))\n",
    "print(format('Computer','12s'))\n",
    "print(format('Science','12s'))\n",
    "print()"
   ]
  },
  {
   "cell_type": "code",
   "execution_count": 51,
   "metadata": {},
   "outputs": [
    {
     "name": "stdout",
     "output_type": "stream",
     "text": [
      "  Department\n",
      "          of\n",
      "    Computer\n",
      "     Science\n"
     ]
    }
   ],
   "source": [
    "print(format('Department','>12s'))\n",
    "print(format('of','>12s'))\n",
    "print(format('Computer','>12s'))\n",
    "print(format('Science','>12s'))"
   ]
  },
  {
   "cell_type": "code",
   "execution_count": 52,
   "metadata": {},
   "outputs": [
    {
     "name": "stdout",
     "output_type": "stream",
     "text": [
      "    123.46\n",
      "  12345.68\n"
     ]
    }
   ],
   "source": [
    "print(format(123.456,'10.2f'))\n",
    "print(format(12345.678,'10.2f'))"
   ]
  },
  {
   "cell_type": "code",
   "execution_count": 53,
   "metadata": {},
   "outputs": [
    {
     "name": "stdout",
     "output_type": "stream",
     "text": [
      "i=100\n",
      "i=100,j=200\n"
     ]
    }
   ],
   "source": [
    "print('i=%d'%(100))\n",
    "print('i=%d,j=%d'%(100,200))"
   ]
  },
  {
   "cell_type": "code",
   "execution_count": 54,
   "metadata": {},
   "outputs": [
    {
     "name": "stdout",
     "output_type": "stream",
     "text": [
      "Price:$  356.09\n",
      "    123.46     345.79\n",
      "123.46      100\n",
      "radius=5,area=  78.54\n",
      "Raidus:  5,Area:     78.55\n"
     ]
    }
   ],
   "source": [
    "print('Price:$%8.2f'%(356.08977))\n",
    "print('%10.2f %10.2f'%(123.456,345.789))\n",
    "print('%-10.2f%5d'%(123.456,100))\n",
    "print('radius=%d,area=%7.2f'%(5,5*5*3.14159))\n",
    "print('Raidus:{a:3d},Area:{b:10.2f}'.format(a=5,b=5*5*3.1419))"
   ]
  },
  {
   "cell_type": "code",
   "execution_count": 55,
   "metadata": {},
   "outputs": [
    {
     "name": "stdout",
     "output_type": "stream",
     "text": [
      "3.25 degree Celsius in Fahrenheit     is37.85\n",
      "94.50 degree Fahrenheit in Celsius     is34.72\n"
     ]
    }
   ],
   "source": [
    "print('%.2f degree Celsius in Fahrenheit \\\n",
    "    is%.2f'%(3.25,3.25*1.8+32))\n",
    "print('%.2f degree Fahrenheit in Celsius \\\n",
    "    is%.2f'%(94.5,(94.5-32)/1.8))"
   ]
  },
  {
   "cell_type": "code",
   "execution_count": 56,
   "metadata": {},
   "outputs": [
    {
     "name": "stdout",
     "output_type": "stream",
     "text": [
      "Month          Amount    \n",
      "1              43400.20  \n",
      "2              45430.28  \n",
      "3              48030.48  \n",
      "4              51112.96  \n",
      "5              5285702.00\n"
     ]
    }
   ],
   "source": [
    "print('%-15s%-10s'%('Month','Amount'))\n",
    "print('%-15d%-10.2f'%(1,43400.2))\n",
    "print('%-15d%-10.2f'%(2,45430.28))\n",
    "print('%-15d%-10.2f'%(3,48030.48))\n",
    "print('%-15d%-10.2f'%(4,51112.96))\n",
    "print('%-15d%-10.2f'%(5,5285702))"
   ]
  },
  {
   "cell_type": "code",
   "execution_count": 57,
   "metadata": {},
   "outputs": [
    {
     "name": "stdout",
     "output_type": "stream",
     "text": [
      "|     12345        12   1234567|\n",
      "Raidus:  5,Area:     15.71\n",
      "10.2f                                                                                                                      \n",
      "1              43400.20  \n",
      "x=  123,y=  12345\n"
     ]
    }
   ],
   "source": [
    "print('|%10d %9d %9d|'%(12345,12,1234567))\n",
    "print('Raidus:{a:3d},Area:{b:10.2f}'.format(a=5,b=5*3.14159))\n",
    "print(format('10.2f','123.456'))\n",
    "print('%-15d%-10.2f'%(1,43400.2))\n",
    "print('x={0:5d},y={1:7d}'.format(123,12345))"
   ]
  },
  {
   "cell_type": "code",
   "execution_count": 58,
   "metadata": {},
   "outputs": [
    {
     "name": "stdout",
     "output_type": "stream",
     "text": [
      "123      45\n",
      "123456   78901\n",
      "123      45\n",
      "123456   78901\n",
      "123      45\n",
      "123456   78901\n"
     ]
    }
   ],
   "source": [
    "print(format(123,'<6d'),format(45,'4d'))\n",
    "print(format(123456),format(78901,'7d'))\n",
    "print('{0}{1:8d}'.format(123,45))\n",
    "print('{0}{1:8d}'.format(123456,78901))\n",
    "print('%-6d %4d'%(123,45))\n",
    "print('%-6d %7d'%(123456,78901))"
   ]
  },
  {
   "cell_type": "code",
   "execution_count": 59,
   "metadata": {},
   "outputs": [
    {
     "name": "stdout",
     "output_type": "stream",
     "text": [
      "Member Karen  ,discount 0.35\n",
      "Member Sammy  ,discount 0.40\n",
      "Member JoJo   ,discount 0.42\n"
     ]
    }
   ],
   "source": [
    "print('Member {0:7s},discount {1:3.2f}'.format('Karen',0.35))\n",
    "print('Member {0:7s},discount {1:3.2f}'.format('Sammy',0.4))\n",
    "print('Member {0:7s},discount {1:3.2f}'.format('JoJo',0.42))"
   ]
  },
  {
   "cell_type": "code",
   "execution_count": 60,
   "metadata": {},
   "outputs": [
    {
     "name": "stdout",
     "output_type": "stream",
     "text": [
      "                tall short               \n",
      "              strong weak                \n",
      "               thick thin                \n"
     ]
    }
   ],
   "source": [
    "print('%20s %-20s'%('tall','short'))\n",
    "print('%20s %-20s'%('strong','weak'))\n",
    "print('%20s %-20s'%('thick','thin'))"
   ]
  },
  {
   "cell_type": "code",
   "execution_count": 61,
   "metadata": {},
   "outputs": [
    {
     "name": "stdout",
     "output_type": "stream",
     "text": [
      "   Apple's Products: iPhone              \n",
      "                     iMac                \n",
      "                     Apple Watch         \n",
      "                     ...                 \n"
     ]
    }
   ],
   "source": [
    "print('%20s %-20s'%('Apple\\'s Products:','iPhone'))\n",
    "print('%20s %-20s'%('','iMac'))\n",
    "print('%20s %-20s'%('','Apple Watch'))\n",
    "print('%20s %-20s'%('','...'))"
   ]
  },
  {
   "cell_type": "code",
   "execution_count": 62,
   "metadata": {},
   "outputs": [
    {
     "name": "stdout",
     "output_type": "stream",
     "text": [
      "City            Celsius\n",
      "Taipei            33.20\n",
      "Yilan             32.93\n",
      "MiaoLi            32.29\n",
      "Taichung          32.48\n",
      "HuaLian           33.87\n"
     ]
    }
   ],
   "source": [
    "print('%-15s %7s'%('City','Celsius'))\n",
    "print('%-15s %7.2f'%('Taipei',33.2))\n",
    "print('%-15s %7.2f'%('Yilan',32.93))\n",
    "print('%-15s %7.2f'%('MiaoLi',32.29))\n",
    "print('%-15s %7.2f'%('Taichung',32.48))\n",
    "print('%-15s %7.2f'%('HuaLian',33.87))"
   ]
  },
  {
   "cell_type": "code",
   "execution_count": 63,
   "metadata": {},
   "outputs": [
    {
     "name": "stdout",
     "output_type": "stream",
     "text": [
      "|    22    44    66    88|\n",
      "|33    55    77    99    |\n",
      "|   222   444   666   888|\n",
      "|333   555   777   999   |\n"
     ]
    }
   ],
   "source": [
    "print('|%6d%6d%6d%6d|'%(22,44,66,88))\n",
    "print('|%-6d%-6d%-6d%-6d|'%(33,55,77,99))\n",
    "print('|%6d%6d%6d%6d|'%(222,444,666,888))\n",
    "print('|%-6d%-6d%-6d%-6d|'%(333,555,777,999))"
   ]
  },
  {
   "cell_type": "code",
   "execution_count": 64,
   "metadata": {},
   "outputs": [
    {
     "name": "stdout",
     "output_type": "stream",
     "text": [
      "---------\n",
      "Learning Pyhon now***\n",
      "Python is fun$$$\n",
      "---------\n"
     ]
    }
   ],
   "source": [
    "print('---------')\n",
    "print('Learning Pyhon now***')\n",
    "print('Python is fun$$$')\n",
    "print('---------')"
   ]
  },
  {
   "cell_type": "code",
   "execution_count": 65,
   "metadata": {},
   "outputs": [
    {
     "name": "stdout",
     "output_type": "stream",
     "text": [
      "21.0\n",
      "23.0\n"
     ]
    }
   ],
   "source": [
    "a=7+8*2-6+8/2\n",
    "print(a)\n",
    "b=(7+8)*2-(6+8)/2\n",
    "print(b)"
   ]
  },
  {
   "cell_type": "code",
   "execution_count": 66,
   "metadata": {},
   "outputs": [
    {
     "name": "stdout",
     "output_type": "stream",
     "text": [
      "Learning Pythonis fun\n"
     ]
    }
   ],
   "source": [
    "str1='Learning Python'+'is fun'\n",
    "print(str1)"
   ]
  },
  {
   "cell_type": "code",
   "execution_count": 67,
   "metadata": {},
   "outputs": [
    {
     "name": "stdout",
     "output_type": "stream",
     "text": [
      "Learning Pythonis fun\n"
     ]
    }
   ],
   "source": [
    "str2='Learning Python'+\\\n",
    "'is fun'\n",
    "print(str2)"
   ]
  },
  {
   "cell_type": "code",
   "execution_count": 68,
   "metadata": {},
   "outputs": [
    {
     "name": "stdout",
     "output_type": "stream",
     "text": [
      "Is your birthday in set1?\n",
      "1 3 5 7\n",
      "9 11 13 15\n",
      "17 19 21 23\n",
      "25 27 29 31\n",
      "\n",
      " Enter 1 for Yes and 0 for No:\n"
     ]
    }
   ],
   "source": [
    "#p3-7\n",
    "question1='Is your birthday in set1?\\n'+\\\n",
    "'1 3 5 7\\n'+\\\n",
    "'9 11 13 15\\n'+\\\n",
    "'17 19 21 23\\n'+\\\n",
    "'25 27 29 31\\n'+\\\n",
    "'\\n Enter 1 for Yes and 0 for No:'\n",
    "print(question1)"
   ]
  },
  {
   "cell_type": "code",
   "execution_count": 69,
   "metadata": {
    "scrolled": true
   },
   "outputs": [
    {
     "name": "stdout",
     "output_type": "stream",
     "text": [
      "Hello,world\n",
      "Helloworld\n",
      "Helloworld\n"
     ]
    }
   ],
   "source": [
    "#p3-8-1,2\n",
    "print('Hello,world')\n",
    "print('Hello',end='')\n",
    "print('world')\n",
    "s='Hello'+\\\n",
    "'world'\n",
    "print(s)"
   ]
  },
  {
   "cell_type": "code",
   "execution_count": null,
   "metadata": {},
   "outputs": [],
   "source": []
  },
  {
   "cell_type": "code",
   "execution_count": 70,
   "metadata": {},
   "outputs": [
    {
     "data": {
      "text/plain": [
       "2.6666666666666665"
      ]
     },
     "execution_count": 70,
     "metadata": {},
     "output_type": "execute_result"
    }
   ],
   "source": [
    "#p3-8\n",
    "8/3"
   ]
  },
  {
   "cell_type": "code",
   "execution_count": 71,
   "metadata": {},
   "outputs": [
    {
     "data": {
      "text/plain": [
       "2"
      ]
     },
     "execution_count": 71,
     "metadata": {},
     "output_type": "execute_result"
    }
   ],
   "source": [
    "#p3-9\n",
    "8//3"
   ]
  },
  {
   "cell_type": "code",
   "execution_count": 72,
   "metadata": {},
   "outputs": [
    {
     "data": {
      "text/plain": [
       "64"
      ]
     },
     "execution_count": 72,
     "metadata": {},
     "output_type": "execute_result"
    }
   ],
   "source": [
    "#3-9\n",
    "8**2"
   ]
  },
  {
   "cell_type": "code",
   "execution_count": 73,
   "metadata": {},
   "outputs": [
    {
     "data": {
      "text/plain": [
       "10.0"
      ]
     },
     "execution_count": 73,
     "metadata": {},
     "output_type": "execute_result"
    }
   ],
   "source": [
    "#p3-9\n",
    "100**0.5"
   ]
  },
  {
   "cell_type": "code",
   "execution_count": 74,
   "metadata": {},
   "outputs": [
    {
     "data": {
      "text/plain": [
       "2"
      ]
     },
     "execution_count": 74,
     "metadata": {},
     "output_type": "execute_result"
    }
   ],
   "source": [
    "#p3-9\n",
    "8%3"
   ]
  },
  {
   "cell_type": "code",
   "execution_count": 75,
   "metadata": {},
   "outputs": [
    {
     "name": "stdout",
     "output_type": "stream",
     "text": [
      "100 100 100\n"
     ]
    }
   ],
   "source": [
    "#p3-9\n",
    "i=100\n",
    "j=100\n",
    "k=100\n",
    "print(i,j,k)"
   ]
  },
  {
   "cell_type": "code",
   "execution_count": 76,
   "metadata": {},
   "outputs": [
    {
     "name": "stdout",
     "output_type": "stream",
     "text": [
      "200 200 200\n"
     ]
    }
   ],
   "source": [
    "#p3-9\n",
    "i=j=k=200\n",
    "print(i,j,k)"
   ]
  },
  {
   "cell_type": "code",
   "execution_count": 77,
   "metadata": {},
   "outputs": [
    {
     "name": "stdout",
     "output_type": "stream",
     "text": [
      "100 200\n"
     ]
    }
   ],
   "source": [
    "#p3-9\n",
    "a,b=100,200\n",
    "print(a,b)"
   ]
  },
  {
   "cell_type": "code",
   "execution_count": 78,
   "metadata": {},
   "outputs": [
    {
     "name": "stdout",
     "output_type": "stream",
     "text": [
      "200 200\n"
     ]
    }
   ],
   "source": [
    "#p3-10\n",
    "a=100\n",
    "b=200\n",
    "a=b\n",
    "b=a\n",
    "print(a,b)"
   ]
  },
  {
   "cell_type": "code",
   "execution_count": 79,
   "metadata": {},
   "outputs": [
    {
     "name": "stdout",
     "output_type": "stream",
     "text": [
      "200 100\n"
     ]
    }
   ],
   "source": [
    "#p3-10\n",
    "a=100\n",
    "b=200\n",
    "temp=a\n",
    "a=b\n",
    "b=temp\n",
    "print(a,b)"
   ]
  },
  {
   "cell_type": "code",
   "execution_count": 80,
   "metadata": {},
   "outputs": [
    {
     "name": "stdout",
     "output_type": "stream",
     "text": [
      "200 100\n"
     ]
    }
   ],
   "source": [
    "#p3-11\n",
    "a=100\n",
    "b=200\n",
    "a,b=b,a\n",
    "print(a,b)"
   ]
  },
  {
   "cell_type": "code",
   "execution_count": 81,
   "metadata": {},
   "outputs": [
    {
     "name": "stdout",
     "output_type": "stream",
     "text": [
      "12\n"
     ]
    }
   ],
   "source": [
    "#p3-12\n",
    "a=10\n",
    "a+=2\n",
    "print(a)"
   ]
  },
  {
   "cell_type": "code",
   "execution_count": 82,
   "metadata": {},
   "outputs": [
    {
     "name": "stdout",
     "output_type": "stream",
     "text": [
      "60\n"
     ]
    }
   ],
   "source": [
    "#p3-12\n",
    "a*=5\n",
    "print(a)"
   ]
  },
  {
   "cell_type": "code",
   "execution_count": 83,
   "metadata": {},
   "outputs": [
    {
     "name": "stdout",
     "output_type": "stream",
     "text": [
      "20\n"
     ]
    }
   ],
   "source": [
    "#p3-12\n",
    "a//=3\n",
    "print(a)"
   ]
  },
  {
   "cell_type": "code",
   "execution_count": 84,
   "metadata": {},
   "outputs": [
    {
     "name": "stdout",
     "output_type": "stream",
     "text": [
      "2\n"
     ]
    }
   ],
   "source": [
    "#p3-12\n",
    "a%=6\n",
    "print(a)"
   ]
  },
  {
   "cell_type": "code",
   "execution_count": 18,
   "metadata": {},
   "outputs": [
    {
     "name": "stdout",
     "output_type": "stream",
     "text": [
      "3\n"
     ]
    }
   ],
   "source": [
    "#p3-12\n",
    "k=eval(input())"
   ]
  },
  {
   "cell_type": "code",
   "execution_count": 19,
   "metadata": {},
   "outputs": [
    {
     "data": {
      "text/plain": [
       "3"
      ]
     },
     "execution_count": 19,
     "metadata": {},
     "output_type": "execute_result"
    }
   ],
   "source": [
    "#p3-12\n",
    "k"
   ]
  },
  {
   "cell_type": "code",
   "execution_count": 20,
   "metadata": {},
   "outputs": [
    {
     "name": "stdout",
     "output_type": "stream",
     "text": [
      "3\n"
     ]
    }
   ],
   "source": [
    "#p3-12\n",
    "print(k)"
   ]
  },
  {
   "cell_type": "code",
   "execution_count": 21,
   "metadata": {},
   "outputs": [
    {
     "name": "stdout",
     "output_type": "stream",
     "text": [
      "Please enter an integer:45\n"
     ]
    }
   ],
   "source": [
    "#p3-13\n",
    "s=eval(input('Please enter an integer:'))"
   ]
  },
  {
   "cell_type": "code",
   "execution_count": 22,
   "metadata": {},
   "outputs": [
    {
     "data": {
      "text/plain": [
       "45"
      ]
     },
     "execution_count": 22,
     "metadata": {},
     "output_type": "execute_result"
    }
   ],
   "source": [
    "#p3-13\n",
    "s"
   ]
  },
  {
   "cell_type": "code",
   "execution_count": 23,
   "metadata": {},
   "outputs": [
    {
     "name": "stdout",
     "output_type": "stream",
     "text": [
      "Please enter a string:Hello,world\n"
     ]
    }
   ],
   "source": [
    "#p3-13\n",
    "s2=input('Please enter a string:')"
   ]
  },
  {
   "cell_type": "code",
   "execution_count": 24,
   "metadata": {},
   "outputs": [
    {
     "data": {
      "text/plain": [
       "'Hello,world'"
      ]
     },
     "execution_count": 24,
     "metadata": {},
     "output_type": "execute_result"
    }
   ],
   "source": [
    "#p3-13\n",
    "s2"
   ]
  },
  {
   "cell_type": "code",
   "execution_count": 25,
   "metadata": {},
   "outputs": [
    {
     "name": "stdout",
     "output_type": "stream",
     "text": [
      "Hello,world\n"
     ]
    }
   ],
   "source": [
    "#p3-13\n",
    "print(s2)"
   ]
  },
  {
   "cell_type": "code",
   "execution_count": 15,
   "metadata": {},
   "outputs": [
    {
     "name": "stdout",
     "output_type": "stream",
     "text": [
      "Please enter an integer:88\n"
     ]
    }
   ],
   "source": [
    "#p3-13\n",
    "str2=input('Please enter an integer:')"
   ]
  },
  {
   "cell_type": "code",
   "execution_count": 16,
   "metadata": {},
   "outputs": [
    {
     "name": "stdout",
     "output_type": "stream",
     "text": [
      "88\n"
     ]
    }
   ],
   "source": [
    "#p3-13\n",
    "print(str2)"
   ]
  },
  {
   "cell_type": "code",
   "execution_count": 17,
   "metadata": {},
   "outputs": [
    {
     "data": {
      "text/plain": [
       "'88'"
      ]
     },
     "execution_count": 17,
     "metadata": {},
     "output_type": "execute_result"
    }
   ],
   "source": [
    "#p3-13\n",
    "str2"
   ]
  },
  {
   "cell_type": "code",
   "execution_count": 26,
   "metadata": {},
   "outputs": [
    {
     "name": "stdout",
     "output_type": "stream",
     "text": [
      "Please enter number1:100\n"
     ]
    }
   ],
   "source": [
    "#p3-15\n",
    "num1=eval(input('Please enter number1:'))"
   ]
  },
  {
   "cell_type": "code",
   "execution_count": 27,
   "metadata": {},
   "outputs": [
    {
     "name": "stdout",
     "output_type": "stream",
     "text": [
      "Please enter number2:200\n"
     ]
    }
   ],
   "source": [
    "#p3-15\n",
    "num2=eval(input('Please enter number2:'))"
   ]
  },
  {
   "cell_type": "code",
   "execution_count": 28,
   "metadata": {},
   "outputs": [
    {
     "name": "stdout",
     "output_type": "stream",
     "text": [
      "300\n"
     ]
    }
   ],
   "source": [
    "#p3-15\n",
    "print(num1+num2)"
   ]
  },
  {
   "cell_type": "code",
   "execution_count": 30,
   "metadata": {},
   "outputs": [
    {
     "name": "stdout",
     "output_type": "stream",
     "text": [
      "Enter two numbers separated by comma:100,200\n"
     ]
    }
   ],
   "source": [
    "#p3-15\n",
    "num1,num2=eval(input('Enter two numbers separated by comma:'))"
   ]
  },
  {
   "cell_type": "code",
   "execution_count": 31,
   "metadata": {},
   "outputs": [
    {
     "name": "stdout",
     "output_type": "stream",
     "text": [
      "300\n"
     ]
    }
   ],
   "source": [
    "#p3-15\n",
    "print(num1+num2)"
   ]
  },
  {
   "cell_type": "code",
   "execution_count": 32,
   "metadata": {},
   "outputs": [
    {
     "name": "stdout",
     "output_type": "stream",
     "text": [
      "Enter three numbers separated by commas:100,150,170\n",
      "total=420,and average=140.000000\n"
     ]
    }
   ],
   "source": [
    "#p3-16\n",
    "num1,num2,num3=eval(input('Enter three numbers separated by commas:'))\n",
    "total=num1+num2+num3\n",
    "average=total/3\n",
    "print('total=%d,and average=%f'%(total,average))"
   ]
  },
  {
   "cell_type": "code",
   "execution_count": 33,
   "metadata": {},
   "outputs": [
    {
     "name": "stdout",
     "output_type": "stream",
     "text": [
      "total=420,and average=140.00\n"
     ]
    }
   ],
   "source": [
    "#p3-16\n",
    "print('total=%d,and average=%.2f'%(total,average))"
   ]
  },
  {
   "cell_type": "code",
   "execution_count": 103,
   "metadata": {},
   "outputs": [
    {
     "name": "stdout",
     "output_type": "stream",
     "text": [
      "Enter the radius:5\n",
      "Area=78.54\n",
      "Perimeter=31.42\n"
     ]
    }
   ],
   "source": [
    "#p3-17-1\n",
    "radius=eval(input('Enter the radius:'))\n",
    "area=radius*radius*3.14159\n",
    "perimeter=2*3.14159*radius\n",
    "print('Area=%.2f'%(area))\n",
    "print('Perimeter=%.2f'%(perimeter))"
   ]
  },
  {
   "cell_type": "code",
   "execution_count": 104,
   "metadata": {},
   "outputs": [
    {
     "name": "stdout",
     "output_type": "stream",
     "text": [
      "Enter the radius5\n",
      "Area=78.54\n"
     ]
    }
   ],
   "source": [
    "#p3-17-2\n",
    "import math\n",
    "radius=eval(input('Enter the radius'))\n",
    "area= radius*radius*math.pi\n",
    "perimeter=2*math.pi*radius\n",
    "print('Area=%.2f'%(area))"
   ]
  },
  {
   "cell_type": "code",
   "execution_count": 105,
   "metadata": {},
   "outputs": [
    {
     "name": "stdout",
     "output_type": "stream",
     "text": [
      "Enter three numbers separated by commas:5,5,5\n",
      "total=15,and average=7.50\n"
     ]
    }
   ],
   "source": [
    "#p3-19\n",
    "#input 3 integers then calculate total and average\n",
    "num1,num2,num3=eval(input('Enter three numbers separated by commas:'))\n",
    "\n",
    "#calculate total and average\n",
    "total=num1+num2+num3\n",
    "average=total/2\n",
    "\n",
    "#display total and average\n",
    "print('total=%d,and average=%.2f'%(total,average))"
   ]
  },
  {
   "cell_type": "code",
   "execution_count": 106,
   "metadata": {},
   "outputs": [
    {
     "name": "stdout",
     "output_type": "stream",
     "text": [
      "100 200\n",
      "100\n",
      "200\n",
      "\n"
     ]
    }
   ],
   "source": [
    "#p3-20-1-a\n",
    "a=100\n",
    "b=200\n",
    "c,d=a,b\n",
    "print(c,d)\n",
    "print(c)\n",
    "print(d)\n",
    "print()"
   ]
  },
  {
   "cell_type": "code",
   "execution_count": 107,
   "metadata": {},
   "outputs": [
    {
     "name": "stdout",
     "output_type": "stream",
     "text": [
      "100 200\n",
      "100200***Over\n"
     ]
    }
   ],
   "source": [
    "#p3-20-1-b\n",
    "a=100\n",
    "b=200\n",
    "c,d=a,b\n",
    "print(c,d)\n",
    "print(c,end='')\n",
    "print(d,end='***')\n",
    "print('Over')"
   ]
  },
  {
   "cell_type": "code",
   "execution_count": 108,
   "metadata": {},
   "outputs": [
    {
     "name": "stdout",
     "output_type": "stream",
     "text": [
      "100 200\n",
      "100$and\n",
      "200***Over\n"
     ]
    }
   ],
   "source": [
    "#p3-20-1-c\n",
    "a=100\n",
    "b=200\n",
    "c,d=a,b\n",
    "print(c,d)\n",
    "print(c,end='$')\n",
    "print('and')\n",
    "print(d,end='***')\n",
    "print('Over')"
   ]
  },
  {
   "cell_type": "code",
   "execution_count": 109,
   "metadata": {},
   "outputs": [
    {
     "name": "stdout",
     "output_type": "stream",
     "text": [
      "300\n",
      "33.333333333333336\n",
      "33\n",
      "1\n",
      "1000000\n",
      "10.0\n"
     ]
    }
   ],
   "source": [
    "#p3-21-2-a\n",
    "x=100\n",
    "y=3\n",
    "print(x*y)\n",
    "print(x/y)\n",
    "print(x//y)\n",
    "print(x%y)\n",
    "print(x**y)\n",
    "print(x**0.5)"
   ]
  },
  {
   "cell_type": "code",
   "execution_count": 110,
   "metadata": {},
   "outputs": [
    {
     "name": "stdout",
     "output_type": "stream",
     "text": [
      "HelloPython\n",
      "300\n"
     ]
    }
   ],
   "source": [
    "#p3-21-2-b\n",
    "str1='Hello'\n",
    "str2=\"Python\"\n",
    "str3=str1+str2\n",
    "print(str3)\n",
    "a=100\n",
    "b=200\n",
    "c=a+b\n",
    "print(c)"
   ]
  },
  {
   "cell_type": "code",
   "execution_count": 111,
   "metadata": {},
   "outputs": [
    {
     "name": "stdout",
     "output_type": "stream",
     "text": [
      "Hello,Python,Let's learningPython now\n"
     ]
    }
   ],
   "source": [
    "#p3-21-2-c\n",
    "str1='Hello,'+\\\n",
    "'Python,Let\\'s learning'\n",
    "str2=\"Python now\"\n",
    "str3=str1+str2\n",
    "print(str3)"
   ]
  },
  {
   "cell_type": "code",
   "execution_count": 112,
   "metadata": {},
   "outputs": [
    {
     "name": "stdout",
     "output_type": "stream",
     "text": [
      "33\n",
      "1\n",
      "33.333333333333336\n"
     ]
    }
   ],
   "source": [
    "#p3-22-3-a\n",
    "a=100\n",
    "b=3\n",
    "a//=b\n",
    "print(a)\n",
    "a=100\n",
    "a%=b\n",
    "print(a)\n",
    "a=100\n",
    "a/=b\n",
    "print(a)"
   ]
  },
  {
   "cell_type": "code",
   "execution_count": 113,
   "metadata": {},
   "outputs": [
    {
     "name": "stdout",
     "output_type": "stream",
     "text": [
      "100 200\n",
      "200 100\n"
     ]
    }
   ],
   "source": [
    "#p3-22-3-b\n",
    "a=100\n",
    "b=200\n",
    "print(a,b)\n",
    "b,a=a,b\n",
    "print(a,b)"
   ]
  },
  {
   "cell_type": "code",
   "execution_count": 114,
   "metadata": {},
   "outputs": [
    {
     "name": "stdout",
     "output_type": "stream",
     "text": [
      "100 200\n",
      "200 100\n"
     ]
    }
   ],
   "source": [
    "#p3-22-3-c\n",
    "a=100\n",
    "b=200\n",
    "print(a,b)\n",
    "temp=a\n",
    "a=b\n",
    "b=temp\n",
    "print(a,b)"
   ]
  },
  {
   "cell_type": "code",
   "execution_count": 115,
   "metadata": {
    "scrolled": true
   },
   "outputs": [
    {
     "name": "stdout",
     "output_type": "stream",
     "text": [
      "Enter an integer:5\n",
      "5 105\n",
      "Enter a string:5\n",
      "5i8\n"
     ]
    }
   ],
   "source": [
    "#p3-23-4\n",
    "a=eval(input('Enter an integer:'))\n",
    "b=a+100\n",
    "print(a,b)\n",
    "str1=input('Enter a string:')\n",
    "str2=str1+'i8'\n",
    "print(str2)"
   ]
  },
  {
   "cell_type": "code",
   "execution_count": 35,
   "metadata": {},
   "outputs": [
    {
     "name": "stdout",
     "output_type": "stream",
     "text": [
      "Hello,Python,Let's learningPython now\n"
     ]
    }
   ],
   "source": [
    "#p3-23-5-a\n",
    "str1='Hello,'+\\\n",
    "    \"Python,Let's learning\"\n",
    "str2=\"Python now\"\n",
    "str3=str1+str2\n",
    "print(str3)"
   ]
  },
  {
   "cell_type": "code",
   "execution_count": 36,
   "metadata": {},
   "outputs": [
    {
     "name": "stdout",
     "output_type": "stream",
     "text": [
      "Fahrenheit 212 is Ceisius degree\n",
      "85.77777777777779\n"
     ]
    }
   ],
   "source": [
    "#p3-23-5-b\n",
    "#Convert Fahrenheit to Ceisius\n",
    "print('Fahrenheit 212 is Ceisius degree')\n",
    "print(5/9*212-32)"
   ]
  },
  {
   "cell_type": "code",
   "execution_count": 37,
   "metadata": {},
   "outputs": [
    {
     "name": "stdout",
     "output_type": "stream",
     "text": [
      "100 200\n",
      "200 100\n"
     ]
    }
   ],
   "source": [
    "#p3-24-5-c\n",
    "#change a and b\n",
    "a=100\n",
    "b=200\n",
    "print(a,b)\n",
    "a,b=b,a\n",
    "print(a,b)"
   ]
  },
  {
   "cell_type": "code",
   "execution_count": 38,
   "metadata": {},
   "outputs": [
    {
     "name": "stdout",
     "output_type": "stream",
     "text": [
      "Enter an integer:5\n",
      "5 105\n"
     ]
    }
   ],
   "source": [
    "#p3-24-5-d\n",
    "a=eval(input('Enter an integer:'))\n",
    "b=a+100\n",
    "print(a,b)"
   ]
  },
  {
   "cell_type": "code",
   "execution_count": 39,
   "metadata": {},
   "outputs": [
    {
     "name": "stdout",
     "output_type": "stream",
     "text": [
      "Enter an integer:10\n",
      "10 110\n"
     ]
    }
   ],
   "source": [
    "#p3-24-5-e\n",
    "a=eval(input('Enter an integer:'))\n",
    "b=a+100\n",
    "print(a,b)"
   ]
  },
  {
   "cell_type": "code",
   "execution_count": 40,
   "metadata": {},
   "outputs": [
    {
     "data": {
      "text/plain": [
       "'\\na=100\\nb=200\\nprint(a,b)\\n'"
      ]
     },
     "execution_count": 40,
     "metadata": {},
     "output_type": "execute_result"
    }
   ],
   "source": [
    "#p3-24-5-f\n",
    "#Display two messages\n",
    "'''\n",
    "a=100\n",
    "b=200\n",
    "print(a,b)\n",
    "'''"
   ]
  },
  {
   "cell_type": "code",
   "execution_count": null,
   "metadata": {},
   "outputs": [],
   "source": [
    "#p3-25-6\n"
   ]
  },
  {
   "cell_type": "code",
   "execution_count": 116,
   "metadata": {},
   "outputs": [
    {
     "data": {
      "text/plain": [
       "100"
      ]
     },
     "execution_count": 116,
     "metadata": {},
     "output_type": "execute_result"
    }
   ],
   "source": [
    "#p4-3\n",
    "abs(-100)"
   ]
  },
  {
   "cell_type": "code",
   "execution_count": 117,
   "metadata": {},
   "outputs": [
    {
     "data": {
      "text/plain": [
       "100"
      ]
     },
     "execution_count": 117,
     "metadata": {},
     "output_type": "execute_result"
    }
   ],
   "source": [
    "#p4-3\n",
    "max(12,23,100,58,60)"
   ]
  },
  {
   "cell_type": "code",
   "execution_count": 118,
   "metadata": {},
   "outputs": [
    {
     "data": {
      "text/plain": [
       "12"
      ]
     },
     "execution_count": 118,
     "metadata": {},
     "output_type": "execute_result"
    }
   ],
   "source": [
    "#p4-3\n",
    "min(12,23,100,58,60)"
   ]
  },
  {
   "cell_type": "code",
   "execution_count": 119,
   "metadata": {},
   "outputs": [
    {
     "data": {
      "text/plain": [
       "32"
      ]
     },
     "execution_count": 119,
     "metadata": {},
     "output_type": "execute_result"
    }
   ],
   "source": [
    "#p4-3\n",
    "pow(2,5)"
   ]
  },
  {
   "cell_type": "code",
   "execution_count": 120,
   "metadata": {},
   "outputs": [
    {
     "data": {
      "text/plain": [
       "7"
      ]
     },
     "execution_count": 120,
     "metadata": {},
     "output_type": "execute_result"
    }
   ],
   "source": [
    "#p4-3\n",
    "round(6.6)"
   ]
  },
  {
   "cell_type": "code",
   "execution_count": 121,
   "metadata": {},
   "outputs": [
    {
     "data": {
      "text/plain": [
       "6"
      ]
     },
     "execution_count": 121,
     "metadata": {},
     "output_type": "execute_result"
    }
   ],
   "source": [
    "#p4-3\n",
    "round(5.5)"
   ]
  },
  {
   "cell_type": "code",
   "execution_count": 122,
   "metadata": {},
   "outputs": [
    {
     "data": {
      "text/plain": [
       "4"
      ]
     },
     "execution_count": 122,
     "metadata": {},
     "output_type": "execute_result"
    }
   ],
   "source": [
    "#p4-3\n",
    "round(4.4)"
   ]
  },
  {
   "cell_type": "code",
   "execution_count": 123,
   "metadata": {},
   "outputs": [
    {
     "data": {
      "text/plain": [
       "6.67"
      ]
     },
     "execution_count": 123,
     "metadata": {},
     "output_type": "execute_result"
    }
   ],
   "source": [
    "#p4-3\n",
    "round(6.667,2)"
   ]
  },
  {
   "cell_type": "code",
   "execution_count": 124,
   "metadata": {},
   "outputs": [
    {
     "data": {
      "text/plain": [
       "6.66"
      ]
     },
     "execution_count": 124,
     "metadata": {},
     "output_type": "execute_result"
    }
   ],
   "source": [
    "#p4-3\n",
    "round(6.663,2)"
   ]
  },
  {
   "cell_type": "code",
   "execution_count": 125,
   "metadata": {},
   "outputs": [
    {
     "data": {
      "text/plain": [
       "12"
      ]
     },
     "execution_count": 125,
     "metadata": {},
     "output_type": "execute_result"
    }
   ],
   "source": [
    "#p4-3\n",
    "int(12.34)"
   ]
  },
  {
   "cell_type": "code",
   "execution_count": 2,
   "metadata": {},
   "outputs": [
    {
     "name": "stdout",
     "output_type": "stream",
     "text": [
      "Enter the length of side:6.5\n",
      "72.69017017488386\n"
     ]
    }
   ],
   "source": [
    "#p4-10\n",
    "import math\n",
    "side=eval(input('Enter the length of side:'))\n",
    "area=(5*side*side)/(4*math.tan(math.pi/5))\n",
    "print(area)"
   ]
  },
  {
   "cell_type": "code",
   "execution_count": 3,
   "metadata": {},
   "outputs": [
    {
     "name": "stdout",
     "output_type": "stream",
     "text": [
      "Enter threes numbers:10,20,30\n",
      "variance is 66.67,and standand deviation is 8.16\n"
     ]
    }
   ],
   "source": [
    "#p-4-11\n",
    "import math\n",
    "n1,n2,n3=eval(input('Enter threes numbers:'))\n",
    "mean=(n1+n2+n3)/3\n",
    "variance=(pow((n1-mean),2)+pow((n2-mean),2)+pow((n3-mean),2))/3\n",
    "sd=math.sqrt(variance)\n",
    "print('variance is %.2f,and standand deviation is %.2f'%(variance,sd))"
   ]
  },
  {
   "cell_type": "code",
   "execution_count": 3,
   "metadata": {},
   "outputs": [
    {
     "data": {
      "text/plain": [
       "'12.3'"
      ]
     },
     "execution_count": 3,
     "metadata": {},
     "output_type": "execute_result"
    }
   ],
   "source": [
    "#p4-13\n",
    "str(12.3)"
   ]
  },
  {
   "cell_type": "code",
   "execution_count": 4,
   "metadata": {},
   "outputs": [
    {
     "data": {
      "text/plain": [
       "'12'"
      ]
     },
     "execution_count": 4,
     "metadata": {},
     "output_type": "execute_result"
    }
   ],
   "source": [
    "#p4-13\n",
    "str(12)"
   ]
  },
  {
   "cell_type": "code",
   "execution_count": 5,
   "metadata": {},
   "outputs": [
    {
     "data": {
      "text/plain": [
       "65"
      ]
     },
     "execution_count": 5,
     "metadata": {},
     "output_type": "execute_result"
    }
   ],
   "source": [
    "#p4-13\n",
    "ord('A')"
   ]
  },
  {
   "cell_type": "code",
   "execution_count": 6,
   "metadata": {},
   "outputs": [
    {
     "data": {
      "text/plain": [
       "97"
      ]
     },
     "execution_count": 6,
     "metadata": {},
     "output_type": "execute_result"
    }
   ],
   "source": [
    "#p4-13\n",
    "ord('a')"
   ]
  },
  {
   "cell_type": "code",
   "execution_count": 7,
   "metadata": {},
   "outputs": [
    {
     "data": {
      "text/plain": [
       "'A'"
      ]
     },
     "execution_count": 7,
     "metadata": {},
     "output_type": "execute_result"
    }
   ],
   "source": [
    "#p4-13\n",
    "chr(65)"
   ]
  },
  {
   "cell_type": "code",
   "execution_count": 8,
   "metadata": {},
   "outputs": [
    {
     "data": {
      "text/plain": [
       "'a'"
      ]
     },
     "execution_count": 8,
     "metadata": {},
     "output_type": "execute_result"
    }
   ],
   "source": [
    "#p4-13\n",
    "chr(97)"
   ]
  },
  {
   "cell_type": "code",
   "execution_count": 9,
   "metadata": {},
   "outputs": [
    {
     "name": "stdout",
     "output_type": "stream",
     "text": [
      "888\n",
      "100\n",
      "-888\n",
      "100\n",
      "8\n",
      "6\n",
      "123\n",
      "123.46\n"
     ]
    }
   ],
   "source": [
    "#p4-14-1\n",
    "a=-888\n",
    "b=100\n",
    "c=10\n",
    "d=2\n",
    "e=0.5\n",
    "print(abs(a))\n",
    "print(max(a,b,c,d,e))\n",
    "print(min(a,b,c,d,e))\n",
    "print(pow(c,d))\n",
    "print(round(7.5))\n",
    "print(round(6.5))\n",
    "print(int(123.456))\n",
    "print(round(123.456,2))"
   ]
  },
  {
   "cell_type": "code",
   "execution_count": 10,
   "metadata": {},
   "outputs": [
    {
     "name": "stdout",
     "output_type": "stream",
     "text": [
      "123.45\n",
      "9\n",
      "8\n",
      "2.718281828459045\n",
      "4.605170185988092\n",
      "2.0\n",
      "1000.0\n"
     ]
    }
   ],
   "source": [
    "#p4-14-2\n",
    "import math\n",
    "a=math.fabs(-123.45)\n",
    "print(a)\n",
    "\n",
    "b=math.ceil(8.8)\n",
    "print(b)\n",
    "\n",
    "c=math.floor(8.8)\n",
    "print(c)\n",
    "\n",
    "d=math.exp(1)\n",
    "print(d)\n",
    "\n",
    "e=math.log(100)\n",
    "print(e)\n",
    "\n",
    "f=math.log(100,10)\n",
    "print(f)\n",
    "\n",
    "g=math.sqrt(1000000)\n",
    "print(g)"
   ]
  },
  {
   "cell_type": "code",
   "execution_count": 11,
   "metadata": {},
   "outputs": [
    {
     "name": "stdout",
     "output_type": "stream",
     "text": [
      "0.0\n",
      "-2.4492935982947064e-16\n",
      "360.0\n",
      "6.283185307179586\n"
     ]
    }
   ],
   "source": [
    "#p4-15-3\n",
    "m=math.tan(0)\n",
    "print(m)\n",
    "\n",
    "n=math.tan(2*math.pi)\n",
    "print(n)\n",
    "\n",
    "p=math.degrees(2*math.pi)\n",
    "print(p)\n",
    "\n",
    "q=math.radians(360)\n",
    "print(q)"
   ]
  },
  {
   "cell_type": "code",
   "execution_count": 12,
   "metadata": {
    "scrolled": true
   },
   "outputs": [
    {
     "name": "stdout",
     "output_type": "stream",
     "text": [
      "Apple i8\n",
      "90\n",
      "d\n"
     ]
    }
   ],
   "source": [
    "#p4-16-4\n",
    "x='Apple i'+str(8)\n",
    "print(x)\n",
    "\n",
    "y=ord('Z')\n",
    "print(y)\n",
    "\n",
    "z=chr(100)\n",
    "print(z)"
   ]
  },
  {
   "cell_type": "code",
   "execution_count": 10,
   "metadata": {},
   "outputs": [
    {
     "name": "stdout",
     "output_type": "stream",
     "text": [
      "4.0\n",
      "100.0\n",
      "0.0\n",
      "300\n",
      "101\n",
      "a\n"
     ]
    }
   ],
   "source": [
    "#p4-16-5\n",
    "f1=math.log(10000,10)\n",
    "print(f1)\n",
    "\n",
    "g1=math.sqrt(10000)\n",
    "print(g1)\n",
    "\n",
    "h1=math.tan(0)\n",
    "print(h1)\n",
    "\n",
    "p1=max(1,2,4,78,300)\n",
    "print(p1)\n",
    "\n",
    "q1=abs(-101)\n",
    "print(q1)\n",
    "\n",
    "r1=chr(97)\n",
    "print(r1)"
   ]
  },
  {
   "cell_type": "code",
   "execution_count": 11,
   "metadata": {},
   "outputs": [
    {
     "data": {
      "text/plain": [
       "8"
      ]
     },
     "execution_count": 11,
     "metadata": {},
     "output_type": "execute_result"
    }
   ],
   "source": [
    "#p4-17-1-1\n",
    "round(8.5)"
   ]
  },
  {
   "cell_type": "code",
   "execution_count": 12,
   "metadata": {},
   "outputs": [
    {
     "data": {
      "text/plain": [
       "64"
      ]
     },
     "execution_count": 12,
     "metadata": {},
     "output_type": "execute_result"
    }
   ],
   "source": [
    "#p4-17-1-2\n",
    "pow(8,2)"
   ]
  },
  {
   "cell_type": "code",
   "execution_count": 13,
   "metadata": {},
   "outputs": [
    {
     "data": {
      "text/plain": [
       "97"
      ]
     },
     "execution_count": 13,
     "metadata": {},
     "output_type": "execute_result"
    }
   ],
   "source": [
    "#p4-17-1-4\n",
    "ord('a')"
   ]
  },
  {
   "cell_type": "code",
   "execution_count": 14,
   "metadata": {},
   "outputs": [
    {
     "data": {
      "text/plain": [
       "'Q'"
      ]
     },
     "execution_count": 14,
     "metadata": {},
     "output_type": "execute_result"
    }
   ],
   "source": [
    "#p4-17-1-5\n",
    "chr(81)"
   ]
  },
  {
   "cell_type": "code",
   "execution_count": 28,
   "metadata": {},
   "outputs": [
    {
     "name": "stdout",
     "output_type": "stream",
     "text": [
      "5\n",
      "6.5\n"
     ]
    },
    {
     "ename": "TypeError",
     "evalue": "can't multiply sequence by non-int of type 'str'",
     "output_type": "error",
     "traceback": [
      "\u001b[1;31m---------------------------------------------------------------------------\u001b[0m",
      "\u001b[1;31mTypeError\u001b[0m                                 Traceback (most recent call last)",
      "\u001b[1;32m<ipython-input-28-27c89ea374f7>\u001b[0m in \u001b[0;36m<module>\u001b[1;34m\u001b[0m\n\u001b[0;32m      4\u001b[0m \u001b[0ms\u001b[0m\u001b[1;33m=\u001b[0m\u001b[0minput\u001b[0m\u001b[1;33m(\u001b[0m\u001b[1;34m''\u001b[0m\u001b[1;33m)\u001b[0m\u001b[1;33m\u001b[0m\u001b[1;33m\u001b[0m\u001b[0m\n\u001b[0;32m      5\u001b[0m \u001b[0ma\u001b[0m\u001b[1;33m=\u001b[0m\u001b[1;36m4\u001b[0m\u001b[1;33m\u001b[0m\u001b[1;33m\u001b[0m\u001b[0m\n\u001b[1;32m----> 6\u001b[1;33m \u001b[0marea\u001b[0m\u001b[1;33m=\u001b[0m\u001b[1;33m(\u001b[0m\u001b[0mn\u001b[0m\u001b[1;33m*\u001b[0m\u001b[0ms\u001b[0m\u001b[1;33m*\u001b[0m\u001b[0ms\u001b[0m\u001b[1;33m)\u001b[0m\u001b[1;33m/\u001b[0m\u001b[1;33m(\u001b[0m\u001b[0ma\u001b[0m\u001b[1;33m*\u001b[0m\u001b[0mtan\u001b[0m\u001b[1;33m(\u001b[0m\u001b[0mpi\u001b[0m\u001b[1;33m/\u001b[0m\u001b[0mn\u001b[0m\u001b[1;33m)\u001b[0m\u001b[1;33m)\u001b[0m\u001b[1;33m\u001b[0m\u001b[1;33m\u001b[0m\u001b[0m\n\u001b[0m",
      "\u001b[1;31mTypeError\u001b[0m: can't multiply sequence by non-int of type 'str'"
     ]
    }
   ],
   "source": [
    "#p4-17-2-1\n",
    "import math\n",
    "n=input('')\n",
    "s=input('')\n",
    "a=4\n",
    "area=(n*s*s)/(a*tan(pi/n))"
   ]
  },
  {
   "cell_type": "code",
   "execution_count": 23,
   "metadata": {},
   "outputs": [
    {
     "name": "stdout",
     "output_type": "stream",
     "text": [
      "X=70\n"
     ]
    }
   ],
   "source": [
    "#p5-5\n",
    "X=65\n",
    "if X>60:\n",
    "    X=X+5\n",
    "    print('X=%d'%(X))"
   ]
  },
  {
   "cell_type": "code",
   "execution_count": 14,
   "metadata": {},
   "outputs": [
    {
     "name": "stdout",
     "output_type": "stream",
     "text": [
      "Please input numerator:125\n",
      "Please input denominator:125\n",
      "125 / 125 = 1.0\n",
      "Over\n"
     ]
    }
   ],
   "source": [
    "#p5-6,8\n",
    "numerator=eval(input(\"Please input numerator:\"))\n",
    "denominator=eval(input(\"Please input denominator:\"))\n",
    "if denominator!=0:\n",
    "    ans=numerator/denominator\n",
    "    print(numerator,\"/\",denominator,\"=\",ans)\n",
    "print(\"Over\")"
   ]
  },
  {
   "cell_type": "code",
   "execution_count": 15,
   "metadata": {},
   "outputs": [
    {
     "name": "stdout",
     "output_type": "stream",
     "text": [
      "Please input a number:50\n",
      "50 is 5's multiple\n",
      "Over\n"
     ]
    }
   ],
   "source": [
    "#p5-9,10\n",
    "number=eval(input(\"Please input a number:\"))\n",
    "if number%5==0:\n",
    "    print(number,\"is 5's multiple\")\n",
    "print(\"Over\")"
   ]
  },
  {
   "cell_type": "code",
   "execution_count": 16,
   "metadata": {},
   "outputs": [
    {
     "name": "stdout",
     "output_type": "stream",
     "text": [
      "Please input numerator:125\n",
      "Please input denominator:25\n",
      "125 / 25 = 5.0\n",
      "Over\n"
     ]
    }
   ],
   "source": [
    "#p5-11\n",
    "numerator=eval(input(\"Please input numerator:\"))\n",
    "denominator=eval(input(\"Please input denominator:\"))\n",
    "if denominator!=0:\n",
    "    ans=numerator/denominator\n",
    "    print(numerator,\"/\",denominator,\"=\",ans)\n",
    "else:\n",
    "    print(\"Denominator is invalid\")\n",
    "print(\"Over\")"
   ]
  },
  {
   "cell_type": "code",
   "execution_count": 17,
   "metadata": {},
   "outputs": [
    {
     "name": "stdout",
     "output_type": "stream",
     "text": [
      "Please input a number:88\n",
      "88 is an evan number.\n",
      "Over\n"
     ]
    }
   ],
   "source": [
    "#p5-13-1,2\n",
    "num=eval(input(\"Please input a number:\"))\n",
    "if num%2==0:\n",
    "    print(num,\"is an evan number.\")\n",
    "else:\n",
    "    print(num,\"is a odd number.\")\n",
    "print(\"Over\")"
   ]
  },
  {
   "cell_type": "code",
   "execution_count": 18,
   "metadata": {},
   "outputs": [
    {
     "name": "stdout",
     "output_type": "stream",
     "text": [
      "Please input a number:20\n",
      "50 is greater than 0\n",
      "Over\n"
     ]
    }
   ],
   "source": [
    "#p5-15\n",
    "numer=eval(input(\"Please input a number:\"))\n",
    "if number>0:\n",
    "    print(number,\"is greater than 0\")\n",
    "else:\n",
    "    if number<0:\n",
    "        print(number,\"is less than 0\")\n",
    "    else:\n",
    "        print(number,\"is equal to 0\")\n",
    "print(\"Over\")"
   ]
  },
  {
   "cell_type": "code",
   "execution_count": 19,
   "metadata": {},
   "outputs": [
    {
     "name": "stdout",
     "output_type": "stream",
     "text": [
      "Please input a number:-10\n",
      "50 is greater than 0\n",
      "Over\n"
     ]
    }
   ],
   "source": [
    "#p5-15\n",
    "numer=eval(input(\"Please input a number:\"))\n",
    "if number>0:\n",
    "    print(number,\"is greater than 0\")\n",
    "else:\n",
    "    if number<0:\n",
    "        print(number,\"is less than 0\")\n",
    "    else:\n",
    "        print(number,\"is equal to 0\")\n",
    "print(\"Over\")"
   ]
  },
  {
   "cell_type": "code",
   "execution_count": 20,
   "metadata": {},
   "outputs": [
    {
     "name": "stdout",
     "output_type": "stream",
     "text": [
      "Please input a number:0\n",
      "50 is greater than 0\n",
      "Over\n"
     ]
    }
   ],
   "source": [
    "#p5-15\n",
    "numer=eval(input(\"Please input a number:\"))\n",
    "if number>0:\n",
    "    print(number,\"is greater than 0\")\n",
    "else:\n",
    "    if number<0:\n",
    "        print(number,\"is less than 0\")\n",
    "    else:\n",
    "        print(number,\"is equal to 0\")\n",
    "print(\"Over\")"
   ]
  },
  {
   "cell_type": "code",
   "execution_count": 21,
   "metadata": {},
   "outputs": [
    {
     "name": "stdout",
     "output_type": "stream",
     "text": [
      "Please input a number:5\n",
      "5 is greater than 0\n",
      "Over\n"
     ]
    }
   ],
   "source": [
    "#p5-17\n",
    "number=eval(input(\"Please input a number:\"))\n",
    "if number>0:\n",
    "    print(number,\"is greater than 0\")\n",
    "elif number<0:\n",
    "    print(number,\"is less than 0\")\n",
    "else:\n",
    "    print(number,\"is equal to 0\")\n",
    "print(\"Over\")"
   ]
  },
  {
   "cell_type": "code",
   "execution_count": 22,
   "metadata": {},
   "outputs": [
    {
     "name": "stdout",
     "output_type": "stream",
     "text": [
      "Please input your score:86\n",
      "Grade A\n"
     ]
    }
   ],
   "source": [
    "#p5-18\n",
    "score=eval(input(\"Please input your score:\"))\n",
    "if score>=80:\n",
    "    print(\"Grade A\")\n",
    "elif score>=70:\n",
    "    print(\"Grade B\")\n",
    "elif score>=60:\n",
    "    print(\"Geade C\")\n",
    "elif score>=50:\n",
    "    print(\"Grade D\")\n",
    "else:\n",
    "    print(\"Grade E\")"
   ]
  },
  {
   "cell_type": "code",
   "execution_count": 23,
   "metadata": {},
   "outputs": [
    {
     "name": "stdout",
     "output_type": "stream",
     "text": [
      "Please input your weight(kilogram):67\n",
      "Please input your height(centimeter):185\n",
      "Your BMI is 19.58\n",
      "Normal\n"
     ]
    }
   ],
   "source": [
    "#p5-20,21\n",
    "weight=eval(input(\"Please input your weight(kilogram):\"))\n",
    "height=eval(input(\"Please input your height(centimeter):\"))\n",
    "heightlnCentimeter=(height/100)\n",
    "\n",
    "bmi=weight/(heightlnCentimeter*heightlnCentimeter)\n",
    "print(\"Your BMI is\",format(bmi,\".2f\"))\n",
    "\n",
    "if bmi<18.5:\n",
    "    print(\"Underweight\")\n",
    "elif bmi<25:\n",
    "    print(\"Normal\")\n",
    "elif bmi<30:\n",
    "    print(\"Overweight\")\n",
    "else:\n",
    "    print(\"Obese\")"
   ]
  },
  {
   "cell_type": "code",
   "execution_count": 26,
   "metadata": {},
   "outputs": [
    {
     "name": "stdout",
     "output_type": "stream",
     "text": [
      "Please enter which year?400\n",
      "400 is leap year\n"
     ]
    }
   ],
   "source": [
    "#p5-25\n",
    "year= eval(input(\"Please enter which year?\"))\n",
    "if year%400==0 or(year%4==0and year%100!=0):\n",
    "    print(year,\"is leap year\")\n",
    "else:\n",
    "    print(year,\"is not leap year\")"
   ]
  },
  {
   "cell_type": "code",
   "execution_count": 28,
   "metadata": {},
   "outputs": [
    {
     "name": "stdout",
     "output_type": "stream",
     "text": [
      "Please enter a number:-100\n",
      "100\n"
     ]
    }
   ],
   "source": [
    "#p5-27\n",
    "number=eval(input(\"Please enter a number:\"))\n",
    "if number>=0:\n",
    "    print(number)\n",
    "else:print(-number)"
   ]
  },
  {
   "cell_type": "code",
   "execution_count": 29,
   "metadata": {},
   "outputs": [
    {
     "name": "stdout",
     "output_type": "stream",
     "text": [
      "Enter your score:90\n",
      "you pass\n"
     ]
    }
   ],
   "source": [
    "#p5-28\n",
    "score=eval(input('Enter your score:'))\n",
    "if score>=60:\n",
    "    print('you pass')\n",
    "else:\n",
    "    print('you fail')"
   ]
  },
  {
   "cell_type": "code",
   "execution_count": 30,
   "metadata": {},
   "outputs": [
    {
     "name": "stdout",
     "output_type": "stream",
     "text": [
      "Enter number1:88\n",
      "Enter number2:66\n",
      "Enter an arithmetic operator(+,-,*,/):-\n",
      "88.0000-66.0000=22.0000\n"
     ]
    }
   ],
   "source": [
    "#p5-29\n",
    "number1=eval(input('Enter number1:'))\n",
    "number2=eval(input('Enter number2:'))\n",
    "operator=input('Enter an arithmetic operator(+,-,*,/):')\n",
    "result=0\n",
    "if operator=='+':\n",
    "    result=number1+number2\n",
    "elif operator=='-':\n",
    "    result=number1-number2\n",
    "elif operator=='*':\n",
    "    result=number1*number2\n",
    "elif operator=='/':\n",
    "    result=number1/number2\n",
    "print('%.4f%c%.4f=%.4f'%(number1,operator,number2,result))"
   ]
  },
  {
   "cell_type": "code",
   "execution_count": 31,
   "metadata": {},
   "outputs": [
    {
     "name": "stdout",
     "output_type": "stream",
     "text": [
      "請輸入年齡:18\n",
      "您的年齡屬於青年\n"
     ]
    }
   ],
   "source": [
    "#p5-30\n",
    "age=eval(input('請輸入年齡:'))\n",
    "state=''\n",
    "if age<6:\n",
    "    state='童年'\n",
    "elif age>=7 and age<=17:\n",
    "    state='少年'\n",
    "elif age>=18 and age<=40:\n",
    "    state='青年'\n",
    "elif age>=41 and age<=65:\n",
    "    state='中年'\n",
    "elif age>=66:\n",
    "    state='老年'\n",
    "print('您的年齡屬於%s'% state)"
   ]
  },
  {
   "cell_type": "code",
   "execution_count": 45,
   "metadata": {},
   "outputs": [
    {
     "name": "stdout",
     "output_type": "stream",
     "text": [
      "Is your birthday in set1?\n",
      "1 3 5 7\n",
      "9 11 13 15\n",
      "17 19 21 23\n",
      "25 27 29 31\n",
      "\n",
      "Enter 1 for tes and 0 for No:0\n",
      "Is your birthday in set2?\n",
      "2 3 6 7\n",
      "10 11 14 15\n",
      "18 19 22 23\n",
      "26 27 30 31\n",
      "\n",
      "Enter 1 for Yes and 0 for No:0\n",
      "Is your birthday in set3\n",
      "4 5 6 7\n",
      "12 13 14 15\n",
      "20 21 22 23\n",
      "28 29 30 31\n",
      "\n",
      "Enter 1 for Yes and 0 for No:1\n",
      "Is your birthday in set4\n",
      "8 9 10 11\n",
      "12 13 14 15\n",
      "24 25 26 27\n",
      "28 29 30 31\n",
      "\n",
      "Enter 1 for Yes and 0 for No:0\n",
      "Is your birthday in set5\n",
      "16 17 18 19\n",
      "20 21 22 23\n",
      "24 25 26 27\n",
      "28 29 30 31\n",
      "\n",
      "Enter 1 for Yes and 0 for No:1\n",
      "Your birthday is 20\n"
     ]
    }
   ],
   "source": [
    "#p5-31\n",
    "day=0\n",
    "question1 =\"Is your birthday in set1?\\n\"+\\\n",
    "    \"1 3 5 7\\n\"+\\\n",
    "    \"9 11 13 15\\n\"+\\\n",
    "    \"17 19 21 23\\n\"+\\\n",
    "    \"25 27 29 31\\n\"+\\\n",
    "    \"\\nEnter 1 for tes and 0 for No:\"\n",
    "answer=eval(input(question1))\n",
    "\n",
    "if answer==1:\n",
    "    day+=1\n",
    "question2 =\"Is your birthday in set2?\\n\"+\\\n",
    "    \"2 3 6 7\\n\"+\\\n",
    "    \"10 11 14 15\\n\"+\\\n",
    "    \"18 19 22 23\\n\"+\\\n",
    "    \"26 27 30 31\\n\"+\\\n",
    "    \"\\nEnter 1 for Yes and 0 for No:\"\n",
    "answer=eval(input(question2))\n",
    "\n",
    "if answer==1:\n",
    "    day+=2\n",
    "question3 =\"Is your birthday in set3\\n\"+\\\n",
    "    \"4 5 6 7\\n\"+\\\n",
    "    \"12 13 14 15\\n\"+\\\n",
    "    \"20 21 22 23\\n\"+\\\n",
    "    \"28 29 30 31\\n\"+\\\n",
    "    \"\\nEnter 1 for Yes and 0 for No:\"\n",
    "answer=eval(input(question3))\n",
    "\n",
    "if answer==1:\n",
    "    day+=4\n",
    "question4 =\"Is your birthday in set4\\n\"+\\\n",
    "    \"8 9 10 11\\n\"+\\\n",
    "    \"12 13 14 15\\n\"+\\\n",
    "    \"24 25 26 27\\n\"+\\\n",
    "    \"28 29 30 31\\n\"+\\\n",
    "    \"\\nEnter 1 for Yes and 0 for No:\"\n",
    "answer=eval(input(question4))\n",
    "\n",
    "if answer==1:\n",
    "    day+=8\n",
    "question5 =\"Is your birthday in set5\\n\"+\\\n",
    "    \"16 17 18 19\\n\"+\\\n",
    "    \"20 21 22 23\\n\"+\\\n",
    "    \"24 25 26 27\\n\"+\\\n",
    "    \"28 29 30 31\\n\"+\\\n",
    "    \"\\nEnter 1 for Yes and 0 for No:\"\n",
    "answer=eval(input(question5))\n",
    "\n",
    "if answer==1:\n",
    "    day+=16\n",
    "print(\"Your birthday is\",day)"
   ]
  },
  {
   "cell_type": "code",
   "execution_count": 29,
   "metadata": {},
   "outputs": [
    {
     "name": "stdout",
     "output_type": "stream",
     "text": [
      "Enter your score:80\n",
      "Your score is 90\n"
     ]
    }
   ],
   "source": [
    "#P5-36-1-a\n",
    "score=eval(input('Enter your score:'))\n",
    "if score>=60:\n",
    "    score+=10\n",
    "print('Your score is %d'%(score))"
   ]
  },
  {
   "cell_type": "code",
   "execution_count": 49,
   "metadata": {},
   "outputs": [
    {
     "name": "stdout",
     "output_type": "stream",
     "text": [
      "Enter your score:50\n",
      "Your score is 58\n"
     ]
    }
   ],
   "source": [
    "#P5-36-1-b\n",
    "score=eval(input('Enter your score:'))\n",
    "if score>=60:\n",
    "    score+=10\n",
    "else:\n",
    "    score+=8\n",
    "print('Your score is %d'%(score))"
   ]
  },
  {
   "cell_type": "code",
   "execution_count": 51,
   "metadata": {},
   "outputs": [
    {
     "name": "stdout",
     "output_type": "stream",
     "text": [
      "Enter temperature today:30\n",
      "Hot\n",
      "Over\n"
     ]
    }
   ],
   "source": [
    "#p5-36-1-c\n",
    "temerature=eval(input('Enter temperature today:'))\n",
    "if temerature>=28:\n",
    "    print('Hot')\n",
    "else:\n",
    "    print('Comfortable')\n",
    "print('Over')"
   ]
  },
  {
   "cell_type": "code",
   "execution_count": 53,
   "metadata": {},
   "outputs": [
    {
     "name": "stdout",
     "output_type": "stream",
     "text": [
      "Enter temperature today:25\n",
      "Comfortable\n",
      "Over\n"
     ]
    }
   ],
   "source": [
    "#p5-36-1-d\n",
    "temerature=eval(input('Enter temperature today:'))\n",
    "if temerature>=28:\n",
    "    print('Hot')\n",
    "elif temerature>=22:\n",
    "    print('Comfortable')\n",
    "else:\n",
    "    print('Cold')\n",
    "print('Over')"
   ]
  },
  {
   "cell_type": "code",
   "execution_count": 55,
   "metadata": {},
   "outputs": [
    {
     "name": "stdout",
     "output_type": "stream",
     "text": [
      "Enter temperature today:20\n",
      "Enter humility today:30\n",
      "Cold\n",
      "Over\n"
     ]
    }
   ],
   "source": [
    "#p5-37-1-e\n",
    "temperature=eval(input('Enter temperature today:'))\n",
    "humility=eval(input('Enter humility today:'))\n",
    "if temperature>=28:\n",
    "    print('Hot')\n",
    "elif temperature >=22 and humility>=40 and humility<=50:\n",
    "    print('Comfortable')\n",
    "else:\n",
    "    print('Cold')\n",
    "print('Over')"
   ]
  },
  {
   "cell_type": "code",
   "execution_count": 56,
   "metadata": {},
   "outputs": [
    {
     "name": "stdout",
     "output_type": "stream",
     "text": [
      "Enter a character:a\n",
      "a is lowercase character\n"
     ]
    }
   ],
   "source": [
    "#p5-37-1-f\n",
    "char=input('Enter a character:')\n",
    "if char>='a'and char<='z':\n",
    "    print('%c is lowercase character'%(char))\n",
    "elif char>='A'and char<='Z':\n",
    "    print('%c is uppercase character'%(char))\n",
    "else:\n",
    "    print('%s is other character'%(char))"
   ]
  },
  {
   "cell_type": "code",
   "execution_count": 57,
   "metadata": {},
   "outputs": [
    {
     "name": "stdout",
     "output_type": "stream",
     "text": [
      "Enter a number:8\n",
      "8is even number.\n",
      "Test is over\n"
     ]
    }
   ],
   "source": [
    "#p5-38-1-g\n",
    "num= eval(input('Enter a number:'))\n",
    "if num %2==0:\n",
    "    print('%d'%(num),end='')\n",
    "    print('is even number.')\n",
    "else:\n",
    "    print('%d'%(num),end='')\n",
    "    print('is odd number.')\n",
    "print('Test is over')"
   ]
  },
  {
   "cell_type": "code",
   "execution_count": 33,
   "metadata": {},
   "outputs": [
    {
     "name": "stdout",
     "output_type": "stream",
     "text": [
      "Please input radius:10\n",
      "radius= 10\n",
      "area= 314.15799999999996\n"
     ]
    }
   ],
   "source": [
    "#p5-38-2-a\n",
    "radius=eval(input(\"Please input radius:\"))\n",
    "if radius == 0:\n",
    "    print(\"Negative is not invalid!!!\")\n",
    "else:\n",
    "    area=radius*radius*3.14158\n",
    "print(\"radius=\",radius)\n",
    "print(\"area=\",area)"
   ]
  },
  {
   "cell_type": "code",
   "execution_count": 34,
   "metadata": {},
   "outputs": [
    {
     "name": "stdout",
     "output_type": "stream",
     "text": [
      "Enter temperature today:26\n",
      "Comfortable\n",
      "Over\n"
     ]
    }
   ],
   "source": [
    "#p5-38-2-b\n",
    "temperature=eval(input('Enter temperature today:'))\n",
    "if temperature>=28:\n",
    "    print('Hot')\n",
    "elif temperature>=22:\n",
    "    print('Comfortable')\n",
    "else:\n",
    "    print('Cold')\n",
    "print('Over')"
   ]
  },
  {
   "cell_type": "code",
   "execution_count": 36,
   "metadata": {},
   "outputs": [
    {
     "name": "stdout",
     "output_type": "stream",
     "text": [
      "Enter your score:55\n",
      "Your score is 63\n"
     ]
    }
   ],
   "source": [
    "#p5-39-2-c\n",
    "score=eval(input('Enter your score:'))\n",
    "if score>=60:\n",
    "    score+=10\n",
    "else:\n",
    "    score+=8\n",
    "print('Your score is %d'%(score))"
   ]
  },
  {
   "cell_type": "code",
   "execution_count": 37,
   "metadata": {},
   "outputs": [
    {
     "name": "stdout",
     "output_type": "stream",
     "text": [
      "Enter temperature today:24\n",
      "Enter humility today:45\n",
      "Comfortable\n",
      "Over\n"
     ]
    }
   ],
   "source": [
    "#p5-39-2-d\n",
    "temperature=eval(input('Enter temperature today:'))\n",
    "humility=eval(input('Enter humility today:'))\n",
    "if temperature>=28:\n",
    "    print('Hot')\n",
    "elif temperature>=22 and humility>=40 or humility<=50:\n",
    "    print('Comfortable')\n",
    "else:\n",
    "    print('Cold')\n",
    "print('Over')"
   ]
  },
  {
   "cell_type": "code",
   "execution_count": 39,
   "metadata": {},
   "outputs": [
    {
     "name": "stdout",
     "output_type": "stream",
     "text": [
      "Please input what year?350\n",
      "350 is not leap year\n"
     ]
    }
   ],
   "source": [
    "#p5-39-2-e\n",
    "year=eval(input(\"Please input what year?\"))\n",
    "if year %400==0 or(year%4==0and year%100!=0):\n",
    "    pritn(year,\"is leap year\")\n",
    "else:\n",
    "    print(year,\"is not leap year\")"
   ]
  },
  {
   "cell_type": "code",
   "execution_count": null,
   "metadata": {},
   "outputs": [],
   "source": [
    "#p5-40-2-f\n",
    "chr="
   ]
  },
  {
   "cell_type": "code",
   "execution_count": null,
   "metadata": {},
   "outputs": [],
   "source": []
  },
  {
   "cell_type": "code",
   "execution_count": 1,
   "metadata": {},
   "outputs": [
    {
     "name": "stdout",
     "output_type": "stream",
     "text": [
      "Learing Python is fun!\n",
      "Learing Python is fun!\n",
      "Learing Python is fun!\n",
      "Learing Python is fun!\n",
      "Learing Python is fun!\n",
      "Learing Python is fun!\n",
      "Learing Python is fun!\n",
      "Learing Python is fun!\n",
      "Learing Python is fun!\n",
      "Learing Python is fun!\n",
      "Learing Python is fun!\n",
      "Learing Python is fun!\n",
      "Learing Python is fun!\n",
      "Learing Python is fun!\n",
      "Learing Python is fun!\n",
      "Learing Python is fun!\n",
      "Learing Python is fun!\n",
      "Learing Python is fun!\n",
      "Learing Python is fun!\n",
      "Learing Python is fun!\n",
      "Learing Python is fun!\n",
      "Learing Python is fun!\n",
      "Learing Python is fun!\n",
      "Learing Python is fun!\n",
      "Learing Python is fun!\n",
      "Learing Python is fun!\n",
      "Learing Python is fun!\n",
      "Learing Python is fun!\n",
      "Learing Python is fun!\n",
      "Learing Python is fun!\n",
      "Learing Python is fun!\n",
      "Learing Python is fun!\n",
      "Learing Python is fun!\n",
      "Learing Python is fun!\n",
      "Learing Python is fun!\n",
      "Learing Python is fun!\n",
      "Learing Python is fun!\n",
      "Learing Python is fun!\n",
      "Learing Python is fun!\n",
      "Learing Python is fun!\n",
      "Learing Python is fun!\n",
      "Learing Python is fun!\n",
      "Learing Python is fun!\n",
      "Learing Python is fun!\n",
      "Learing Python is fun!\n",
      "Learing Python is fun!\n",
      "Learing Python is fun!\n",
      "Learing Python is fun!\n",
      "Learing Python is fun!\n",
      "Learing Python is fun!\n",
      "Learing Python is fun!\n",
      "Learing Python is fun!\n",
      "Learing Python is fun!\n",
      "Learing Python is fun!\n",
      "Learing Python is fun!\n",
      "Learing Python is fun!\n",
      "Learing Python is fun!\n",
      "Learing Python is fun!\n",
      "Learing Python is fun!\n",
      "Learing Python is fun!\n",
      "Learing Python is fun!\n",
      "Learing Python is fun!\n",
      "Learing Python is fun!\n",
      "Learing Python is fun!\n",
      "Learing Python is fun!\n",
      "Learing Python is fun!\n",
      "Learing Python is fun!\n",
      "Learing Python is fun!\n",
      "Learing Python is fun!\n",
      "Learing Python is fun!\n",
      "Learing Python is fun!\n",
      "Learing Python is fun!\n",
      "Learing Python is fun!\n",
      "Learing Python is fun!\n",
      "Learing Python is fun!\n",
      "Learing Python is fun!\n",
      "Learing Python is fun!\n",
      "Learing Python is fun!\n",
      "Learing Python is fun!\n",
      "Learing Python is fun!\n",
      "Learing Python is fun!\n",
      "Learing Python is fun!\n",
      "Learing Python is fun!\n",
      "Learing Python is fun!\n",
      "Learing Python is fun!\n",
      "Learing Python is fun!\n",
      "Learing Python is fun!\n",
      "Learing Python is fun!\n",
      "Learing Python is fun!\n",
      "Learing Python is fun!\n",
      "Learing Python is fun!\n",
      "Learing Python is fun!\n",
      "Learing Python is fun!\n",
      "Learing Python is fun!\n",
      "Learing Python is fun!\n",
      "Learing Python is fun!\n",
      "Learing Python is fun!\n",
      "Learing Python is fun!\n",
      "Learing Python is fun!\n",
      "Learing Python is fun!\n"
     ]
    }
   ],
   "source": [
    "#p6-4\n",
    "count=1\n",
    "while count<=100:\n",
    "    print('Learing Python is fun!')\n",
    "    count=count+1"
   ]
  },
  {
   "cell_type": "code",
   "execution_count": 2,
   "metadata": {},
   "outputs": [
    {
     "name": "stdout",
     "output_type": "stream",
     "text": [
      "1+2+3+...+100= 5050\n"
     ]
    }
   ],
   "source": [
    "#6-6\n",
    "total=0\n",
    "k=1\n",
    "while k<=100:\n",
    "    total=total+k\n",
    "    k=k+1\n",
    "print('1+2+3+...+100=',total)"
   ]
  },
  {
   "cell_type": "code",
   "execution_count": 3,
   "metadata": {},
   "outputs": [
    {
     "name": "stdout",
     "output_type": "stream",
     "text": [
      "2+4+6+...+100= 2550\n"
     ]
    }
   ],
   "source": [
    "#6-8\n",
    "evenTotal=0\n",
    "k=2\n",
    "while k<=100:\n",
    "    evenTotal=evenTotal+k\n",
    "    k=k+2\n",
    "print('2+4+6+...+100=',evenTotal)"
   ]
  },
  {
   "cell_type": "code",
   "execution_count": 4,
   "metadata": {},
   "outputs": [
    {
     "name": "stdout",
     "output_type": "stream",
     "text": [
      "1\n",
      "2\n",
      "3\n",
      "4\n",
      "5\n"
     ]
    }
   ],
   "source": [
    "#p6-10\n",
    "for k in range(1,6):\n",
    "    print(k)"
   ]
  },
  {
   "cell_type": "code",
   "execution_count": 5,
   "metadata": {},
   "outputs": [
    {
     "name": "stdout",
     "output_type": "stream",
     "text": [
      "0\n",
      "1\n",
      "2\n",
      "3\n",
      "4\n",
      "5\n"
     ]
    }
   ],
   "source": [
    "#p6-11\n",
    "for k in range(6):\n",
    "    print(k)"
   ]
  },
  {
   "cell_type": "code",
   "execution_count": 6,
   "metadata": {},
   "outputs": [
    {
     "name": "stdout",
     "output_type": "stream",
     "text": [
      "1\n",
      "3\n",
      "5\n",
      "7\n",
      "9\n"
     ]
    }
   ],
   "source": [
    "#p6-11\n",
    "for k in range(1,10,2):\n",
    "    print(k)"
   ]
  },
  {
   "cell_type": "code",
   "execution_count": 8,
   "metadata": {},
   "outputs": [
    {
     "name": "stdout",
     "output_type": "stream",
     "text": [
      "10\n",
      "9\n",
      "8\n",
      "7\n",
      "6\n",
      "5\n",
      "4\n",
      "3\n",
      "2\n"
     ]
    }
   ],
   "source": [
    "#p6-12\n",
    "for k in range(10,1,-1):\n",
    "    print(k)"
   ]
  },
  {
   "cell_type": "code",
   "execution_count": 9,
   "metadata": {},
   "outputs": [
    {
     "name": "stdout",
     "output_type": "stream",
     "text": [
      "10\n",
      "8\n",
      "6\n",
      "4\n",
      "2\n"
     ]
    }
   ],
   "source": [
    "#p6-12\n",
    "for k in range(10,1,-2):\n",
    "    print(k)"
   ]
  },
  {
   "cell_type": "code",
   "execution_count": 10,
   "metadata": {},
   "outputs": [
    {
     "name": "stdout",
     "output_type": "stream",
     "text": [
      "Learning Python is fun\n",
      "Learning Python is fun\n",
      "Learning Python is fun\n",
      "Learning Python is fun\n",
      "Learning Python is fun\n",
      "Learning Python is fun\n",
      "Learning Python is fun\n",
      "Learning Python is fun\n",
      "Learning Python is fun\n",
      "Learning Python is fun\n",
      "Learning Python is fun\n",
      "Learning Python is fun\n",
      "Learning Python is fun\n",
      "Learning Python is fun\n",
      "Learning Python is fun\n",
      "Learning Python is fun\n",
      "Learning Python is fun\n",
      "Learning Python is fun\n",
      "Learning Python is fun\n",
      "Learning Python is fun\n",
      "Learning Python is fun\n",
      "Learning Python is fun\n",
      "Learning Python is fun\n",
      "Learning Python is fun\n",
      "Learning Python is fun\n",
      "Learning Python is fun\n",
      "Learning Python is fun\n",
      "Learning Python is fun\n",
      "Learning Python is fun\n",
      "Learning Python is fun\n",
      "Learning Python is fun\n",
      "Learning Python is fun\n",
      "Learning Python is fun\n",
      "Learning Python is fun\n",
      "Learning Python is fun\n",
      "Learning Python is fun\n",
      "Learning Python is fun\n",
      "Learning Python is fun\n",
      "Learning Python is fun\n",
      "Learning Python is fun\n",
      "Learning Python is fun\n",
      "Learning Python is fun\n",
      "Learning Python is fun\n",
      "Learning Python is fun\n",
      "Learning Python is fun\n",
      "Learning Python is fun\n",
      "Learning Python is fun\n",
      "Learning Python is fun\n",
      "Learning Python is fun\n",
      "Learning Python is fun\n",
      "Learning Python is fun\n",
      "Learning Python is fun\n",
      "Learning Python is fun\n",
      "Learning Python is fun\n",
      "Learning Python is fun\n",
      "Learning Python is fun\n",
      "Learning Python is fun\n",
      "Learning Python is fun\n",
      "Learning Python is fun\n",
      "Learning Python is fun\n",
      "Learning Python is fun\n",
      "Learning Python is fun\n",
      "Learning Python is fun\n",
      "Learning Python is fun\n",
      "Learning Python is fun\n",
      "Learning Python is fun\n",
      "Learning Python is fun\n",
      "Learning Python is fun\n",
      "Learning Python is fun\n",
      "Learning Python is fun\n",
      "Learning Python is fun\n",
      "Learning Python is fun\n",
      "Learning Python is fun\n",
      "Learning Python is fun\n",
      "Learning Python is fun\n",
      "Learning Python is fun\n",
      "Learning Python is fun\n",
      "Learning Python is fun\n",
      "Learning Python is fun\n",
      "Learning Python is fun\n",
      "Learning Python is fun\n",
      "Learning Python is fun\n",
      "Learning Python is fun\n",
      "Learning Python is fun\n",
      "Learning Python is fun\n",
      "Learning Python is fun\n",
      "Learning Python is fun\n",
      "Learning Python is fun\n",
      "Learning Python is fun\n",
      "Learning Python is fun\n",
      "Learning Python is fun\n",
      "Learning Python is fun\n",
      "Learning Python is fun\n",
      "Learning Python is fun\n",
      "Learning Python is fun\n",
      "Learning Python is fun\n",
      "Learning Python is fun\n",
      "Learning Python is fun\n",
      "Learning Python is fun\n",
      "Learning Python is fun\n"
     ]
    }
   ],
   "source": [
    "#p6-13-1\n",
    "for k in range(1,101):\n",
    "    print('Learning Python is fun')"
   ]
  },
  {
   "cell_type": "code",
   "execution_count": 12,
   "metadata": {},
   "outputs": [
    {
     "name": "stdout",
     "output_type": "stream",
     "text": [
      "2+4+6+...+100= 2550\n"
     ]
    }
   ],
   "source": [
    "#p6-14-2\n",
    "total=0\n",
    "for i in range(2,101,2):\n",
    "    total+=i\n",
    "print('2+4+6+...+100=',total)"
   ]
  },
  {
   "cell_type": "code",
   "execution_count": 13,
   "metadata": {},
   "outputs": [
    {
     "name": "stdout",
     "output_type": "stream",
     "text": [
      "The number is 14\n",
      "Total is 105\n"
     ]
    }
   ],
   "source": [
    "#p6-15\n",
    "total=0\n",
    "number=0\n",
    "while True:\n",
    "    number+=1\n",
    "    total+=number\n",
    "    if total>=100:\n",
    "        break\n",
    "print('The number is',number)\n",
    "print('Total is',total)"
   ]
  },
  {
   "cell_type": "code",
   "execution_count": 14,
   "metadata": {},
   "outputs": [
    {
     "name": "stdout",
     "output_type": "stream",
     "text": [
      "The number is 20\n",
      "Total is 110\n"
     ]
    }
   ],
   "source": [
    "#p6-16\n",
    "total=0\n",
    "number=0\n",
    "while True:\n",
    "    number+=2\n",
    "    total+=number\n",
    "    if total>=100:\n",
    "        break\n",
    "print('The number is',number)\n",
    "print('Total is',total)"
   ]
  },
  {
   "cell_type": "code",
   "execution_count": 1,
   "metadata": {},
   "outputs": [
    {
     "name": "stdout",
     "output_type": "stream",
     "text": [
      "1050\n"
     ]
    }
   ],
   "source": [
    "#p6-43-1-a\n",
    "fiveMulti=0\n",
    "k=5\n",
    "while k <=100:\n",
    "    fiveMulti+=k\n",
    "    k+=5\n",
    "print(fiveMulti)"
   ]
  },
  {
   "cell_type": "code",
   "execution_count": 2,
   "metadata": {},
   "outputs": [
    {
     "name": "stdout",
     "output_type": "stream",
     "text": [
      "0123456789\n",
      "23456789\n",
      "13579\n",
      "9753\n"
     ]
    }
   ],
   "source": [
    "#p6-43-1-b\n",
    "for i in range(10):\n",
    "    print(i,end='')\n",
    "print('')\n",
    "\n",
    "for i in range(2,10):\n",
    "    print(i,end='')\n",
    "print('')\n",
    "    \n",
    "for i in range(1,10,2):\n",
    "    print(i,end='')\n",
    "print('')\n",
    "\n",
    "for i in range(9,1,-2):\n",
    "    print(i,end='')\n",
    "print('')"
   ]
  },
  {
   "cell_type": "code",
   "execution_count": 4,
   "metadata": {},
   "outputs": [
    {
     "name": "stdout",
     "output_type": "stream",
     "text": [
      "  0  1  2  3  4  5  6  7  8  9\n",
      "  2  3  4  5  6  7  8  9\n",
      "  1  3  5  7  9\n",
      "  9  7  5  3\n"
     ]
    }
   ],
   "source": [
    "#p6-44-1-c\n",
    "for i in range(10):\n",
    "    print('%3d'%(i),end='')\n",
    "print('')\n",
    "\n",
    "for i in range(2,10):\n",
    "    print('%3d'%(i),end='')\n",
    "print('')\n",
    "\n",
    "for i in range(1,10,2):\n",
    "    print('%3d'%(i),end='')\n",
    "print('')\n",
    "\n",
    "for i in range(9,1,-2):\n",
    "    print('%3d'%(i),end='')\n",
    "print('')"
   ]
  },
  {
   "cell_type": "code",
   "execution_count": 6,
   "metadata": {},
   "outputs": [
    {
     "name": "stdout",
     "output_type": "stream",
     "text": [
      "1+2+3+...+100=5050\n"
     ]
    }
   ],
   "source": [
    "#p6-44-1-d\n",
    "total=0\n",
    "num=0\n",
    "while True:\n",
    "    num+=1\n",
    "    total+=num\n",
    "    if total>=5050:\n",
    "        break\n",
    "print('1+2+3+...+%d=%d'%(num,total))"
   ]
  },
  {
   "cell_type": "code",
   "execution_count": 7,
   "metadata": {},
   "outputs": [
    {
     "name": "stdout",
     "output_type": "stream",
     "text": [
      "1+3+5...+99 2500\n"
     ]
    }
   ],
   "source": [
    "#p6-45-1-e\n",
    "total=0\n",
    "num=1\n",
    "while num<=100:\n",
    "    if num%2==0:\n",
    "        num+=1\n",
    "        continue\n",
    "    total+=num\n",
    "    num+=1\n",
    "print('1+3+5...+99',total)"
   ]
  },
  {
   "cell_type": "code",
   "execution_count": 9,
   "metadata": {},
   "outputs": [
    {
     "name": "stdout",
     "output_type": "stream",
     "text": [
      "1+3+5...+99= 50\n"
     ]
    }
   ],
   "source": [
    "#p6-45-1-f\n",
    "total=0\n",
    "for i in range(1,101):\n",
    "    if i%2==1:\n",
    "        total+=1\n",
    "    else:\n",
    "        continue\n",
    "print('1+3+5...+99=',total)"
   ]
  },
  {
   "cell_type": "code",
   "execution_count": 10,
   "metadata": {},
   "outputs": [
    {
     "name": "stdout",
     "output_type": "stream",
     "text": [
      "**********\n",
      "*********\n",
      "********\n",
      "*******\n",
      "******\n",
      "*****\n",
      "****\n",
      "***\n",
      "**\n",
      "*\n"
     ]
    }
   ],
   "source": [
    "#p6-45-1-g\n",
    "for i in range(10):\n",
    "    for j in range(i,10):\n",
    "        print('*',end='')\n",
    "    print('')"
   ]
  },
  {
   "cell_type": "code",
   "execution_count": 11,
   "metadata": {},
   "outputs": [
    {
     "name": "stdout",
     "output_type": "stream",
     "text": [
      "\n",
      "*\n",
      "**\n",
      "***\n",
      "****\n",
      "*****\n",
      "******\n",
      "*******\n",
      "********\n"
     ]
    }
   ],
   "source": [
    "#p6-46-1-h\n",
    "for i in range(9):\n",
    "    for j in range(i):\n",
    "        print('*',end='')\n",
    "    print('')"
   ]
  },
  {
   "cell_type": "code",
   "execution_count": 13,
   "metadata": {},
   "outputs": [
    {
     "name": "stdout",
     "output_type": "stream",
     "text": [
      "190\n"
     ]
    }
   ],
   "source": [
    "#p6-46-2-a\n",
    "fiveMulti=0\n",
    "k=10\n",
    "while k<=100:\n",
    "    fiveMulti+=10\n",
    "    k+=5\n",
    "print(fiveMulti)"
   ]
  },
  {
   "cell_type": "code",
   "execution_count": 14,
   "metadata": {},
   "outputs": [
    {
     "name": "stdout",
     "output_type": "stream",
     "text": [
      "1045\n"
     ]
    }
   ],
   "source": [
    "#p6-46-2-b\n",
    "fiveMulti=0\n",
    "k=10\n",
    "while k<=100:\n",
    "    fiveMulti+=k\n",
    "    k+=5\n",
    "print(fiveMulti)"
   ]
  },
  {
   "cell_type": "code",
   "execution_count": 1,
   "metadata": {},
   "outputs": [
    {
     "name": "stdout",
     "output_type": "stream",
     "text": [
      "1+2+3...+101=5150\n"
     ]
    }
   ],
   "source": [
    "#p6-46-2-c\n",
    "total=0\n",
    "num=1\n",
    "while True:\n",
    "    num+=1\n",
    "    total+=num\n",
    "    if total>=5050:\n",
    "        break\n",
    "print('1+2+3...+%d=%d'%(num,total))"
   ]
  },
  {
   "cell_type": "code",
   "execution_count": 2,
   "metadata": {},
   "outputs": [
    {
     "name": "stdout",
     "output_type": "stream",
     "text": [
      "1+3+5...+99= 2500\n"
     ]
    }
   ],
   "source": [
    "#p6-47-2-d\n",
    "total=0\n",
    "num=1\n",
    "while num<=100:\n",
    "    if num%2==0:\n",
    "        num+=1\n",
    "        continue\n",
    "    total+=num\n",
    "    num+=1\n",
    "print('1+3+5...+99=',total)"
   ]
  },
  {
   "cell_type": "code",
   "execution_count": 4,
   "metadata": {},
   "outputs": [
    {
     "name": "stdout",
     "output_type": "stream",
     "text": [
      "2+4+6+..+100= 2550\n"
     ]
    }
   ],
   "source": [
    "#p6-47-2-e\n",
    "total=0\n",
    "for i in range(1,101):\n",
    "    if i%2==0:\n",
    "        total+=i\n",
    "    else:\n",
    "        continue\n",
    "print('2+4+6+..+100=',total)"
   ]
  },
  {
   "cell_type": "code",
   "execution_count": null,
   "metadata": {},
   "outputs": [],
   "source": []
  },
  {
   "cell_type": "code",
   "execution_count": null,
   "metadata": {},
   "outputs": [],
   "source": []
  },
  {
   "cell_type": "code",
   "execution_count": null,
   "metadata": {},
   "outputs": [],
   "source": []
  },
  {
   "cell_type": "code",
   "execution_count": null,
   "metadata": {},
   "outputs": [],
   "source": []
  },
  {
   "cell_type": "code",
   "execution_count": null,
   "metadata": {},
   "outputs": [],
   "source": []
  },
  {
   "cell_type": "code",
   "execution_count": null,
   "metadata": {},
   "outputs": [],
   "source": []
  }
 ],
 "metadata": {
  "kernelspec": {
   "display_name": "Python 3",
   "language": "python",
   "name": "python3"
  },
  "language_info": {
   "codemirror_mode": {
    "name": "ipython",
    "version": 3
   },
   "file_extension": ".py",
   "mimetype": "text/x-python",
   "name": "python",
   "nbconvert_exporter": "python",
   "pygments_lexer": "ipython3",
   "version": "3.7.3"
  }
 },
 "nbformat": 4,
 "nbformat_minor": 2
}
